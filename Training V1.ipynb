{
 "cells": [
  {
   "cell_type": "code",
   "execution_count": 119,
   "id": "d9c5213b",
   "metadata": {},
   "outputs": [],
   "source": [
    "import numpy as np\n",
    "import os\n",
    "import torch\n",
    "import torch.nn as nn\n",
    "import time\n",
    "import pandas as pd\n",
    "from scipy.stats import pearsonr"
   ]
  },
  {
   "cell_type": "code",
   "execution_count": 120,
   "id": "037bec4a",
   "metadata": {},
   "outputs": [],
   "source": [
    "from model.util import Normalizer\n",
    "from model.database_util import get_hist_file, get_job_table_sample, collator\n",
    "from model.model import QueryFormer\n",
    "from model.database_util import Encoding\n",
    "from model.dataset import PlanTreeDataset\n",
    "from model.trainer import eval_workload, train"
   ]
  },
  {
   "cell_type": "code",
   "execution_count": 121,
   "id": "822fdcaf",
   "metadata": {},
   "outputs": [],
   "source": [
    "data_path = './data/imdb/'"
   ]
  },
  {
   "cell_type": "code",
   "execution_count": 122,
   "id": "fbcd4773",
   "metadata": {},
   "outputs": [],
   "source": [
    "class Args:\n",
    "    # Batch size: Adjusted for smaller dataset\n",
    "    bs = 128\n",
    "    # Learning rate\n",
    "    lr = 0.001\n",
    "    # Epochs reduced for quick experimentation\n",
    "    epochs = 100\n",
    "    clip_size = 50\n",
    "    embed_size = 64\n",
    "    pred_hid = 128\n",
    "    ffn_dim = 128\n",
    "    head_size = 12\n",
    "    n_layers = 8\n",
    "    dropout = 0.1\n",
    "    # Learning rate scheduler decay factor\n",
    "    sch_decay = 0.6\n",
    "    # Device for training\n",
    "    device = 'cuda:0'\n",
    "    # Path to save results\n",
    "    newpath = './results/full/knobs_and_cost/'\n",
    "    # Specify what to predict: options are 'cost', 'knobs', or 'both'\n",
    "    to_predict = 'both'\n",
    "\n",
    "    knob_column='Node Type'\n",
    "args = Args()\n",
    "\n",
    "# Ensure the results directory exists\n",
    "import os\n",
    "if not os.path.exists(args.newpath):\n",
    "    os.makedirs(args.newpath)\n"
   ]
  },
  {
   "cell_type": "code",
   "execution_count": 123,
   "id": "aace65f6",
   "metadata": {},
   "outputs": [
    {
     "name": "stderr",
     "output_type": "stream",
     "text": [
      "e:\\KHU\\Research\\QueryFormer\\QueryFormer\\model\\database_util.py:76: FutureWarning: ChainedAssignmentError: behaviour will change in pandas 3.0!\n",
      "You are setting values through chained assignment. Currently this works in certain cases, but when using Copy-on-Write (which will become the default behaviour in pandas 3.0) this will never work to update the original DataFrame or Series, because the intermediate object on which we are setting values will behave as a copy.\n",
      "A typical example is when you are setting values in a column of a DataFrame, like:\n",
      "\n",
      "df[\"col\"][row_indexer] = value\n",
      "\n",
      "Use `df.loc[row_indexer, \"col\"] = values` instead, to perform the assignment in a single step and ensure this keeps updating the original `df`.\n",
      "\n",
      "See the caveats in the documentation: https://pandas.pydata.org/pandas-docs/stable/user_guide/indexing.html#returning-a-view-versus-a-copy\n",
      "\n",
      "  hist_file['freq'][i] = freq_np\n",
      "e:\\KHU\\Research\\QueryFormer\\QueryFormer\\model\\database_util.py:89: FutureWarning: ChainedAssignmentError: behaviour will change in pandas 3.0!\n",
      "You are setting values through chained assignment. Currently this works in certain cases, but when using Copy-on-Write (which will become the default behaviour in pandas 3.0) this will never work to update the original DataFrame or Series, because the intermediate object on which we are setting values will behave as a copy.\n",
      "A typical example is when you are setting values in a column of a DataFrame, like:\n",
      "\n",
      "df[\"col\"][row_indexer] = value\n",
      "\n",
      "Use `df.loc[row_indexer, \"col\"] = values` instead, to perform the assignment in a single step and ensure this keeps updating the original `df`.\n",
      "\n",
      "See the caveats in the documentation: https://pandas.pydata.org/pandas-docs/stable/user_guide/indexing.html#returning-a-view-versus-a-copy\n",
      "\n",
      "  hist_file['bins'][rid] = \\\n",
      "e:\\KHU\\Research\\QueryFormer\\QueryFormer\\model\\database_util.py:89: FutureWarning: ChainedAssignmentError: behaviour will change in pandas 3.0!\n",
      "You are setting values through chained assignment. Currently this works in certain cases, but when using Copy-on-Write (which will become the default behaviour in pandas 3.0) this will never work to update the original DataFrame or Series, because the intermediate object on which we are setting values will behave as a copy.\n",
      "A typical example is when you are setting values in a column of a DataFrame, like:\n",
      "\n",
      "df[\"col\"][row_indexer] = value\n",
      "\n",
      "Use `df.loc[row_indexer, \"col\"] = values` instead, to perform the assignment in a single step and ensure this keeps updating the original `df`.\n",
      "\n",
      "See the caveats in the documentation: https://pandas.pydata.org/pandas-docs/stable/user_guide/indexing.html#returning-a-view-versus-a-copy\n",
      "\n",
      "  hist_file['bins'][rid] = \\\n",
      "e:\\KHU\\Research\\QueryFormer\\QueryFormer\\model\\database_util.py:89: FutureWarning: ChainedAssignmentError: behaviour will change in pandas 3.0!\n",
      "You are setting values through chained assignment. Currently this works in certain cases, but when using Copy-on-Write (which will become the default behaviour in pandas 3.0) this will never work to update the original DataFrame or Series, because the intermediate object on which we are setting values will behave as a copy.\n",
      "A typical example is when you are setting values in a column of a DataFrame, like:\n",
      "\n",
      "df[\"col\"][row_indexer] = value\n",
      "\n",
      "Use `df.loc[row_indexer, \"col\"] = values` instead, to perform the assignment in a single step and ensure this keeps updating the original `df`.\n",
      "\n",
      "See the caveats in the documentation: https://pandas.pydata.org/pandas-docs/stable/user_guide/indexing.html#returning-a-view-versus-a-copy\n",
      "\n",
      "  hist_file['bins'][rid] = \\\n",
      "e:\\KHU\\Research\\QueryFormer\\QueryFormer\\model\\database_util.py:89: FutureWarning: ChainedAssignmentError: behaviour will change in pandas 3.0!\n",
      "You are setting values through chained assignment. Currently this works in certain cases, but when using Copy-on-Write (which will become the default behaviour in pandas 3.0) this will never work to update the original DataFrame or Series, because the intermediate object on which we are setting values will behave as a copy.\n",
      "A typical example is when you are setting values in a column of a DataFrame, like:\n",
      "\n",
      "df[\"col\"][row_indexer] = value\n",
      "\n",
      "Use `df.loc[row_indexer, \"col\"] = values` instead, to perform the assignment in a single step and ensure this keeps updating the original `df`.\n",
      "\n",
      "See the caveats in the documentation: https://pandas.pydata.org/pandas-docs/stable/user_guide/indexing.html#returning-a-view-versus-a-copy\n",
      "\n",
      "  hist_file['bins'][rid] = \\\n",
      "e:\\KHU\\Research\\QueryFormer\\QueryFormer\\model\\database_util.py:89: FutureWarning: ChainedAssignmentError: behaviour will change in pandas 3.0!\n",
      "You are setting values through chained assignment. Currently this works in certain cases, but when using Copy-on-Write (which will become the default behaviour in pandas 3.0) this will never work to update the original DataFrame or Series, because the intermediate object on which we are setting values will behave as a copy.\n",
      "A typical example is when you are setting values in a column of a DataFrame, like:\n",
      "\n",
      "df[\"col\"][row_indexer] = value\n",
      "\n",
      "Use `df.loc[row_indexer, \"col\"] = values` instead, to perform the assignment in a single step and ensure this keeps updating the original `df`.\n",
      "\n",
      "See the caveats in the documentation: https://pandas.pydata.org/pandas-docs/stable/user_guide/indexing.html#returning-a-view-versus-a-copy\n",
      "\n",
      "  hist_file['bins'][rid] = \\\n",
      "e:\\KHU\\Research\\QueryFormer\\QueryFormer\\model\\database_util.py:89: FutureWarning: ChainedAssignmentError: behaviour will change in pandas 3.0!\n",
      "You are setting values through chained assignment. Currently this works in certain cases, but when using Copy-on-Write (which will become the default behaviour in pandas 3.0) this will never work to update the original DataFrame or Series, because the intermediate object on which we are setting values will behave as a copy.\n",
      "A typical example is when you are setting values in a column of a DataFrame, like:\n",
      "\n",
      "df[\"col\"][row_indexer] = value\n",
      "\n",
      "Use `df.loc[row_indexer, \"col\"] = values` instead, to perform the assignment in a single step and ensure this keeps updating the original `df`.\n",
      "\n",
      "See the caveats in the documentation: https://pandas.pydata.org/pandas-docs/stable/user_guide/indexing.html#returning-a-view-versus-a-copy\n",
      "\n",
      "  hist_file['bins'][rid] = \\\n",
      "e:\\KHU\\Research\\QueryFormer\\QueryFormer\\model\\database_util.py:89: FutureWarning: ChainedAssignmentError: behaviour will change in pandas 3.0!\n",
      "You are setting values through chained assignment. Currently this works in certain cases, but when using Copy-on-Write (which will become the default behaviour in pandas 3.0) this will never work to update the original DataFrame or Series, because the intermediate object on which we are setting values will behave as a copy.\n",
      "A typical example is when you are setting values in a column of a DataFrame, like:\n",
      "\n",
      "df[\"col\"][row_indexer] = value\n",
      "\n",
      "Use `df.loc[row_indexer, \"col\"] = values` instead, to perform the assignment in a single step and ensure this keeps updating the original `df`.\n",
      "\n",
      "See the caveats in the documentation: https://pandas.pydata.org/pandas-docs/stable/user_guide/indexing.html#returning-a-view-versus-a-copy\n",
      "\n",
      "  hist_file['bins'][rid] = \\\n",
      "e:\\KHU\\Research\\QueryFormer\\QueryFormer\\model\\database_util.py:89: FutureWarning: ChainedAssignmentError: behaviour will change in pandas 3.0!\n",
      "You are setting values through chained assignment. Currently this works in certain cases, but when using Copy-on-Write (which will become the default behaviour in pandas 3.0) this will never work to update the original DataFrame or Series, because the intermediate object on which we are setting values will behave as a copy.\n",
      "A typical example is when you are setting values in a column of a DataFrame, like:\n",
      "\n",
      "df[\"col\"][row_indexer] = value\n",
      "\n",
      "Use `df.loc[row_indexer, \"col\"] = values` instead, to perform the assignment in a single step and ensure this keeps updating the original `df`.\n",
      "\n",
      "See the caveats in the documentation: https://pandas.pydata.org/pandas-docs/stable/user_guide/indexing.html#returning-a-view-versus-a-copy\n",
      "\n",
      "  hist_file['bins'][rid] = \\\n",
      "e:\\KHU\\Research\\QueryFormer\\QueryFormer\\model\\database_util.py:89: FutureWarning: ChainedAssignmentError: behaviour will change in pandas 3.0!\n",
      "You are setting values through chained assignment. Currently this works in certain cases, but when using Copy-on-Write (which will become the default behaviour in pandas 3.0) this will never work to update the original DataFrame or Series, because the intermediate object on which we are setting values will behave as a copy.\n",
      "A typical example is when you are setting values in a column of a DataFrame, like:\n",
      "\n",
      "df[\"col\"][row_indexer] = value\n",
      "\n",
      "Use `df.loc[row_indexer, \"col\"] = values` instead, to perform the assignment in a single step and ensure this keeps updating the original `df`.\n",
      "\n",
      "See the caveats in the documentation: https://pandas.pydata.org/pandas-docs/stable/user_guide/indexing.html#returning-a-view-versus-a-copy\n",
      "\n",
      "  hist_file['bins'][rid] = \\\n"
     ]
    }
   ],
   "source": [
    "# Load the histogram file\n",
    "hist_file = get_hist_file(data_path + 'histogram_string.csv')\n",
    "# Normalizer for cost\n",
    "cost_norm = Normalizer(-3.61192, 12.290855)\n",
    "# Normalizer for cardinality\n",
    "card_norm = Normalizer(1, 100)\n",
    "# Normalizer for knob settings (if applicable)\n",
    "knob_norm = Normalizer(0, 1)  # Adjust ranges based on your knob setting values\n"
   ]
  },
  {
   "cell_type": "code",
   "execution_count": 124,
   "id": "4e5f421a",
   "metadata": {},
   "outputs": [
    {
     "name": "stderr",
     "output_type": "stream",
     "text": [
      "C:\\Users\\Hashmi\\AppData\\Local\\Temp\\ipykernel_18676\\2531763348.py:1: FutureWarning: You are using `torch.load` with `weights_only=False` (the current default value), which uses the default pickle module implicitly. It is possible to construct malicious pickle data which will execute arbitrary code during unpickling (See https://github.com/pytorch/pytorch/blob/main/SECURITY.md#untrusted-models for more details). In a future release, the default value for `weights_only` will be flipped to `True`. This limits the functions that could be executed during unpickling. Arbitrary objects will no longer be allowed to be loaded via this mode unless they are explicitly allowlisted by the user via `torch.serialization.add_safe_globals`. We recommend you start setting `weights_only=True` for any use case where you don't have full control of the loaded file. Please open an issue on GitHub for any issues related to this experimental feature.\n",
      "  encoding_ckpt = torch.load('checkpoints/encoding.pt')\n",
      "C:\\Users\\Hashmi\\AppData\\Local\\Temp\\ipykernel_18676\\2531763348.py:3: FutureWarning: You are using `torch.load` with `weights_only=False` (the current default value), which uses the default pickle module implicitly. It is possible to construct malicious pickle data which will execute arbitrary code during unpickling (See https://github.com/pytorch/pytorch/blob/main/SECURITY.md#untrusted-models for more details). In a future release, the default value for `weights_only` will be flipped to `True`. This limits the functions that could be executed during unpickling. Arbitrary objects will no longer be allowed to be loaded via this mode unless they are explicitly allowlisted by the user via `torch.serialization.add_safe_globals`. We recommend you start setting `weights_only=True` for any use case where you don't have full control of the loaded file. Please open an issue on GitHub for any issues related to this experimental feature.\n",
      "  checkpoint = torch.load('checkpoints/cost_model.pt', map_location='cpu')\n"
     ]
    }
   ],
   "source": [
    "encoding_ckpt = torch.load('checkpoints/encoding.pt')\n",
    "encoding = encoding_ckpt['encoding']\n",
    "checkpoint = torch.load('checkpoints/cost_model.pt', map_location='cpu')"
   ]
  },
  {
   "cell_type": "code",
   "execution_count": 125,
   "id": "aae5f3be",
   "metadata": {},
   "outputs": [
    {
     "name": "stdout",
     "output_type": "stream",
     "text": [
      "<model.database_util.Encoding object at 0x00000262B05B57C0>\n"
     ]
    }
   ],
   "source": [
    "print(encoding)"
   ]
  },
  {
   "cell_type": "code",
   "execution_count": 126,
   "id": "fdf40e89",
   "metadata": {},
   "outputs": [
    {
     "name": "stdout",
     "output_type": "stream",
     "text": [
      "tensor([[-0.5958,  0.5991,  0.4121],\n",
      "        [-0.2854, -0.0265, -0.7127],\n",
      "        [ 0.3400,  0.4122,  0.0657]], device='cuda:0')\n"
     ]
    }
   ],
   "source": [
    "if torch.cuda.is_available():\n",
    "    x = torch.randn(3, 3).cuda()\n",
    "    print(x)\n",
    "else:\n",
    "    print(\"CUDA is not available\")"
   ]
  },
  {
   "cell_type": "code",
   "execution_count": 127,
   "id": "4286ce8d",
   "metadata": {},
   "outputs": [],
   "source": [
    "imdb_path = './data/imdb/'\n",
    "dfs = []  # list to hold DataFrames\n",
    "# SQ: added\n",
    "for i in range(1):\n",
    "#for i in range(18):\n",
    "    file = imdb_path + 'plan_and_cost/tradata.csv'.format(i)\n",
    "    # file = imdb_path + 'plan_and_cost/train_plan_part{}.csv'.format(i)\n",
    "    df = pd.read_csv(file)\n",
    "    dfs.append(df)\n",
    "\n",
    "full_train_df = pd.concat(dfs)\n",
    "\n",
    "# val_dfs = []  # list to hold DataFrames\n",
    "# for i in range(18,20):\n",
    "#     file = imdb_path + 'plan_and_cost/train_plan_part{}.csv'.format(i)\n",
    "#     df = pd.read_csv(file)\n",
    "#     val_dfs.append(df)\n",
    "\n",
    "# val_df = pd.concat(val_dfs)"
   ]
  },
  {
   "cell_type": "code",
   "execution_count": 128,
   "id": "96c47ae6",
   "metadata": {},
   "outputs": [
    {
     "name": "stdout",
     "output_type": "stream",
     "text": [
      "Training data frame Index(['id', 'json'], dtype='object')\n"
     ]
    }
   ],
   "source": [
    "print(f'Training data frame {full_train_df.columns}')"
   ]
  },
  {
   "cell_type": "code",
   "execution_count": 129,
   "id": "8704709a",
   "metadata": {},
   "outputs": [
    {
     "name": "stdout",
     "output_type": "stream",
     "text": [
      "   id                                               json\n",
      "0   0  {\"Plan\": {\"Node Type\": \"Gather\", \"Parallel Awa...\n",
      "1   1  {\"Plan\": {\"Node Type\": \"Seq Scan\", \"Parallel A...\n",
      "2   2  {\"Plan\": {\"Node Type\": \"Seq Scan\", \"Parallel A...\n",
      "3   3  {\"Plan\": {\"Node Type\": \"Gather\", \"Parallel Awa...\n",
      "4   4  {\"Plan\": {\"Node Type\": \"Bitmap Heap Scan\", \"Pa...\n"
     ]
    }
   ],
   "source": [
    "print(full_train_df.head())\n"
   ]
  },
  {
   "cell_type": "code",
   "execution_count": 130,
   "id": "b235dfa1",
   "metadata": {},
   "outputs": [
    {
     "name": "stdout",
     "output_type": "stream",
     "text": [
      "{\n",
      "    \"Plan\": {\n",
      "        \"Node Type\": \"Gather\",\n",
      "        \"Parallel Aware\": false,\n",
      "        \"Startup Cost\": 23540.58,\n",
      "        \"Total Cost\": 154548.95,\n",
      "        \"Plan Rows\": 567655,\n",
      "        \"Plan Width\": 119,\n",
      "        \"Actual Startup Time\": 386.847,\n",
      "        \"Actual Total Time\": 646.972,\n",
      "        \"Actual Rows\": 283812,\n",
      "        \"Actual Loops\": 1,\n",
      "        \"Workers Planned\": 2,\n",
      "        \"Workers Launched\": 2,\n",
      "        \"Single Copy\": false,\n",
      "        \"Plans\": [\n",
      "            {\n",
      "                \"Node Type\": \"Hash Join\",\n",
      "                \"Parent Relationship\": \"Outer\",\n",
      "                \"Parallel Aware\": true,\n",
      "                \"Join Type\": \"Inner\",\n",
      "                \"Startup Cost\": 22540.58,\n",
      "                \"Total Cost\": 96783.45,\n",
      "                \"Plan Rows\": 236523,\n",
      "                \"Plan Width\": 119,\n",
      "                \"Actual Startup Time\": 369.985,\n",
      "                \"Actual Total Time\": 518.487,\n",
      "                \"Actual Rows\": 94604,\n",
      "                \"Actual Loops\": 3,\n",
      "                \"Inner Unique\": false,\n",
      "                \"Hash Cond\": \"(t.id = mi_idx.movie_id)\",\n",
      "                \"Workers\": [],\n",
      "                \"Plans\": [\n",
      "                    {\n",
      "                        \"Node Type\": \"Seq Scan\",\n",
      "                        \"Parent Relationship\": \"Outer\",\n",
      "                        \"Parallel Aware\": true,\n",
      "                        \"Relation Name\": \"title\",\n",
      "                        \"Alias\": \"t\",\n",
      "                        \"Startup Cost\": 0.0,\n",
      "                        \"Total Cost\": 49166.46,\n",
      "                        \"Plan Rows\": 649574,\n",
      "                        \"Plan Width\": 94,\n",
      "                        \"Actual Startup Time\": 0.366,\n",
      "                        \"Actual Total Time\": 147.047,\n",
      "                        \"Actual Rows\": 514421,\n",
      "                        \"Actual Loops\": 3,\n",
      "                        \"Filter\": \"(kind_id = 7)\",\n",
      "                        \"Rows Removed by Filter\": 328349,\n",
      "                        \"Workers\": []\n",
      "                    },\n",
      "                    {\n",
      "                        \"Node Type\": \"Hash\",\n",
      "                        \"Parent Relationship\": \"Inner\",\n",
      "                        \"Parallel Aware\": true,\n",
      "                        \"Startup Cost\": 15122.68,\n",
      "                        \"Total Cost\": 15122.68,\n",
      "                        \"Plan Rows\": 383592,\n",
      "                        \"Plan Width\": 25,\n",
      "                        \"Actual Startup Time\": 103.547,\n",
      "                        \"Actual Total Time\": 103.547,\n",
      "                        \"Actual Rows\": 306703,\n",
      "                        \"Actual Loops\": 3,\n",
      "                        \"Hash Buckets\": 65536,\n",
      "                        \"Original Hash Buckets\": 65536,\n",
      "                        \"Hash Batches\": 32,\n",
      "                        \"Original Hash Batches\": 32,\n",
      "                        \"Peak Memory Usage\": 1920,\n",
      "                        \"Workers\": [],\n",
      "                        \"Plans\": [\n",
      "                            {\n",
      "                                \"Node Type\": \"Seq Scan\",\n",
      "                                \"Parent Relationship\": \"Outer\",\n",
      "                                \"Parallel Aware\": true,\n",
      "                                \"Relation Name\": \"movie_info_idx\",\n",
      "                                \"Alias\": \"mi_idx\",\n",
      "                                \"Startup Cost\": 0.0,\n",
      "                                \"Total Cost\": 15122.68,\n",
      "                                \"Plan Rows\": 383592,\n",
      "                                \"Plan Width\": 25,\n",
      "                                \"Actual Startup Time\": 0.28,\n",
      "                                \"Actual Total Time\": 54.382,\n",
      "                                \"Actual Rows\": 306703,\n",
      "                                \"Actual Loops\": 3,\n",
      "                                \"Filter\": \"(info_type_id > 99)\",\n",
      "                                \"Rows Removed by Filter\": 153308,\n",
      "                                \"Workers\": []\n",
      "                            }\n",
      "                        ]\n",
      "                    }\n",
      "                ]\n",
      "            }\n",
      "        ]\n",
      "    },\n",
      "    \"Planning Time\": 2.382,\n",
      "    \"Triggers\": [],\n",
      "    \"Execution Time\": 654.241\n",
      "}\n"
     ]
    }
   ],
   "source": [
    "import json\n",
    "\n",
    "\n",
    "sample_plan = json.loads(full_train_df['json'].iloc[0])\n",
    "print(json.dumps(sample_plan, indent=4))"
   ]
  },
  {
   "cell_type": "code",
   "execution_count": 131,
   "id": "cc468eb9",
   "metadata": {},
   "outputs": [
    {
     "data": {
      "text/html": [
       "<div>\n",
       "<style scoped>\n",
       "    .dataframe tbody tr th:only-of-type {\n",
       "        vertical-align: middle;\n",
       "    }\n",
       "\n",
       "    .dataframe tbody tr th {\n",
       "        vertical-align: top;\n",
       "    }\n",
       "\n",
       "    .dataframe thead th {\n",
       "        text-align: right;\n",
       "    }\n",
       "</style>\n",
       "<table border=\"1\" class=\"dataframe\">\n",
       "  <thead>\n",
       "    <tr style=\"text-align: right;\">\n",
       "      <th></th>\n",
       "      <th>id</th>\n",
       "      <th>json</th>\n",
       "    </tr>\n",
       "  </thead>\n",
       "  <tbody>\n",
       "    <tr>\n",
       "      <th>0</th>\n",
       "      <td>0</td>\n",
       "      <td>{\"Plan\": {\"Node Type\": \"Gather\", \"Parallel Awa...</td>\n",
       "    </tr>\n",
       "    <tr>\n",
       "      <th>1</th>\n",
       "      <td>1</td>\n",
       "      <td>{\"Plan\": {\"Node Type\": \"Seq Scan\", \"Parallel A...</td>\n",
       "    </tr>\n",
       "    <tr>\n",
       "      <th>2</th>\n",
       "      <td>2</td>\n",
       "      <td>{\"Plan\": {\"Node Type\": \"Seq Scan\", \"Parallel A...</td>\n",
       "    </tr>\n",
       "    <tr>\n",
       "      <th>3</th>\n",
       "      <td>3</td>\n",
       "      <td>{\"Plan\": {\"Node Type\": \"Gather\", \"Parallel Awa...</td>\n",
       "    </tr>\n",
       "    <tr>\n",
       "      <th>4</th>\n",
       "      <td>4</td>\n",
       "      <td>{\"Plan\": {\"Node Type\": \"Bitmap Heap Scan\", \"Pa...</td>\n",
       "    </tr>\n",
       "    <tr>\n",
       "      <th>...</th>\n",
       "      <td>...</td>\n",
       "      <td>...</td>\n",
       "    </tr>\n",
       "    <tr>\n",
       "      <th>1196</th>\n",
       "      <td>1196</td>\n",
       "      <td>{\"Plan\": {\"Node Type\": \"Gather\", \"Parallel Awa...</td>\n",
       "    </tr>\n",
       "    <tr>\n",
       "      <th>1197</th>\n",
       "      <td>1197</td>\n",
       "      <td>{\"Plan\": {\"Node Type\": \"Hash Join\", \"Parallel ...</td>\n",
       "    </tr>\n",
       "    <tr>\n",
       "      <th>1198</th>\n",
       "      <td>1198</td>\n",
       "      <td>{\"Plan\": {\"Node Type\": \"Hash Join\", \"Parallel ...</td>\n",
       "    </tr>\n",
       "    <tr>\n",
       "      <th>1199</th>\n",
       "      <td>1199</td>\n",
       "      <td>{\"Plan\": {\"Node Type\": \"Gather\", \"Parallel Awa...</td>\n",
       "    </tr>\n",
       "    <tr>\n",
       "      <th>1200</th>\n",
       "      <td>1200</td>\n",
       "      <td>{\"Plan\": {\"Node Type\": \"Gather\", \"Parallel Awa...</td>\n",
       "    </tr>\n",
       "  </tbody>\n",
       "</table>\n",
       "<p>1201 rows × 2 columns</p>\n",
       "</div>"
      ],
      "text/plain": [
       "        id                                               json\n",
       "0        0  {\"Plan\": {\"Node Type\": \"Gather\", \"Parallel Awa...\n",
       "1        1  {\"Plan\": {\"Node Type\": \"Seq Scan\", \"Parallel A...\n",
       "2        2  {\"Plan\": {\"Node Type\": \"Seq Scan\", \"Parallel A...\n",
       "3        3  {\"Plan\": {\"Node Type\": \"Gather\", \"Parallel Awa...\n",
       "4        4  {\"Plan\": {\"Node Type\": \"Bitmap Heap Scan\", \"Pa...\n",
       "...    ...                                                ...\n",
       "1196  1196  {\"Plan\": {\"Node Type\": \"Gather\", \"Parallel Awa...\n",
       "1197  1197  {\"Plan\": {\"Node Type\": \"Hash Join\", \"Parallel ...\n",
       "1198  1198  {\"Plan\": {\"Node Type\": \"Hash Join\", \"Parallel ...\n",
       "1199  1199  {\"Plan\": {\"Node Type\": \"Gather\", \"Parallel Awa...\n",
       "1200  1200  {\"Plan\": {\"Node Type\": \"Gather\", \"Parallel Awa...\n",
       "\n",
       "[1201 rows x 2 columns]"
      ]
     },
     "execution_count": 131,
     "metadata": {},
     "output_type": "execute_result"
    }
   ],
   "source": [
    "full_train_df"
   ]
  },
  {
   "cell_type": "code",
   "execution_count": 132,
   "id": "21c64819",
   "metadata": {},
   "outputs": [],
   "source": [
    "import json\n",
    "\n",
    "# Parse JSON in the 'json' column\n",
    "full_train_df[\"json\"] = full_train_df[\"json\"].apply(json.loads)  # Convert JSON string to dict\n"
   ]
  },
  {
   "cell_type": "code",
   "execution_count": 133,
   "id": "82c3cc5d",
   "metadata": {},
   "outputs": [],
   "source": [
    "full_train_df[\"Plan\"] = full_train_df[\"json\"].apply(lambda x: x.get(\"Plan\", {}))\n"
   ]
  },
  {
   "cell_type": "code",
   "execution_count": 134,
   "id": "fb80cd72",
   "metadata": {},
   "outputs": [
    {
     "data": {
      "text/html": [
       "<div>\n",
       "<style scoped>\n",
       "    .dataframe tbody tr th:only-of-type {\n",
       "        vertical-align: middle;\n",
       "    }\n",
       "\n",
       "    .dataframe tbody tr th {\n",
       "        vertical-align: top;\n",
       "    }\n",
       "\n",
       "    .dataframe thead th {\n",
       "        text-align: right;\n",
       "    }\n",
       "</style>\n",
       "<table border=\"1\" class=\"dataframe\">\n",
       "  <thead>\n",
       "    <tr style=\"text-align: right;\">\n",
       "      <th></th>\n",
       "      <th>id</th>\n",
       "      <th>json</th>\n",
       "      <th>Plan</th>\n",
       "    </tr>\n",
       "  </thead>\n",
       "  <tbody>\n",
       "    <tr>\n",
       "      <th>0</th>\n",
       "      <td>0</td>\n",
       "      <td>{'Plan': {'Node Type': 'Gather', 'Parallel Awa...</td>\n",
       "      <td>{'Node Type': 'Gather', 'Parallel Aware': Fals...</td>\n",
       "    </tr>\n",
       "    <tr>\n",
       "      <th>1</th>\n",
       "      <td>1</td>\n",
       "      <td>{'Plan': {'Node Type': 'Seq Scan', 'Parallel A...</td>\n",
       "      <td>{'Node Type': 'Seq Scan', 'Parallel Aware': Fa...</td>\n",
       "    </tr>\n",
       "    <tr>\n",
       "      <th>2</th>\n",
       "      <td>2</td>\n",
       "      <td>{'Plan': {'Node Type': 'Seq Scan', 'Parallel A...</td>\n",
       "      <td>{'Node Type': 'Seq Scan', 'Parallel Aware': Fa...</td>\n",
       "    </tr>\n",
       "    <tr>\n",
       "      <th>3</th>\n",
       "      <td>3</td>\n",
       "      <td>{'Plan': {'Node Type': 'Gather', 'Parallel Awa...</td>\n",
       "      <td>{'Node Type': 'Gather', 'Parallel Aware': Fals...</td>\n",
       "    </tr>\n",
       "    <tr>\n",
       "      <th>4</th>\n",
       "      <td>4</td>\n",
       "      <td>{'Plan': {'Node Type': 'Bitmap Heap Scan', 'Pa...</td>\n",
       "      <td>{'Node Type': 'Bitmap Heap Scan', 'Parallel Aw...</td>\n",
       "    </tr>\n",
       "    <tr>\n",
       "      <th>...</th>\n",
       "      <td>...</td>\n",
       "      <td>...</td>\n",
       "      <td>...</td>\n",
       "    </tr>\n",
       "    <tr>\n",
       "      <th>1196</th>\n",
       "      <td>1196</td>\n",
       "      <td>{'Plan': {'Node Type': 'Gather', 'Parallel Awa...</td>\n",
       "      <td>{'Node Type': 'Gather', 'Parallel Aware': Fals...</td>\n",
       "    </tr>\n",
       "    <tr>\n",
       "      <th>1197</th>\n",
       "      <td>1197</td>\n",
       "      <td>{'Plan': {'Node Type': 'Hash Join', 'Parallel ...</td>\n",
       "      <td>{'Node Type': 'Hash Join', 'Parallel Aware': F...</td>\n",
       "    </tr>\n",
       "    <tr>\n",
       "      <th>1198</th>\n",
       "      <td>1198</td>\n",
       "      <td>{'Plan': {'Node Type': 'Hash Join', 'Parallel ...</td>\n",
       "      <td>{'Node Type': 'Hash Join', 'Parallel Aware': F...</td>\n",
       "    </tr>\n",
       "    <tr>\n",
       "      <th>1199</th>\n",
       "      <td>1199</td>\n",
       "      <td>{'Plan': {'Node Type': 'Gather', 'Parallel Awa...</td>\n",
       "      <td>{'Node Type': 'Gather', 'Parallel Aware': Fals...</td>\n",
       "    </tr>\n",
       "    <tr>\n",
       "      <th>1200</th>\n",
       "      <td>1200</td>\n",
       "      <td>{'Plan': {'Node Type': 'Gather', 'Parallel Awa...</td>\n",
       "      <td>{'Node Type': 'Gather', 'Parallel Aware': Fals...</td>\n",
       "    </tr>\n",
       "  </tbody>\n",
       "</table>\n",
       "<p>1201 rows × 3 columns</p>\n",
       "</div>"
      ],
      "text/plain": [
       "        id                                               json  \\\n",
       "0        0  {'Plan': {'Node Type': 'Gather', 'Parallel Awa...   \n",
       "1        1  {'Plan': {'Node Type': 'Seq Scan', 'Parallel A...   \n",
       "2        2  {'Plan': {'Node Type': 'Seq Scan', 'Parallel A...   \n",
       "3        3  {'Plan': {'Node Type': 'Gather', 'Parallel Awa...   \n",
       "4        4  {'Plan': {'Node Type': 'Bitmap Heap Scan', 'Pa...   \n",
       "...    ...                                                ...   \n",
       "1196  1196  {'Plan': {'Node Type': 'Gather', 'Parallel Awa...   \n",
       "1197  1197  {'Plan': {'Node Type': 'Hash Join', 'Parallel ...   \n",
       "1198  1198  {'Plan': {'Node Type': 'Hash Join', 'Parallel ...   \n",
       "1199  1199  {'Plan': {'Node Type': 'Gather', 'Parallel Awa...   \n",
       "1200  1200  {'Plan': {'Node Type': 'Gather', 'Parallel Awa...   \n",
       "\n",
       "                                                   Plan  \n",
       "0     {'Node Type': 'Gather', 'Parallel Aware': Fals...  \n",
       "1     {'Node Type': 'Seq Scan', 'Parallel Aware': Fa...  \n",
       "2     {'Node Type': 'Seq Scan', 'Parallel Aware': Fa...  \n",
       "3     {'Node Type': 'Gather', 'Parallel Aware': Fals...  \n",
       "4     {'Node Type': 'Bitmap Heap Scan', 'Parallel Aw...  \n",
       "...                                                 ...  \n",
       "1196  {'Node Type': 'Gather', 'Parallel Aware': Fals...  \n",
       "1197  {'Node Type': 'Hash Join', 'Parallel Aware': F...  \n",
       "1198  {'Node Type': 'Hash Join', 'Parallel Aware': F...  \n",
       "1199  {'Node Type': 'Gather', 'Parallel Aware': Fals...  \n",
       "1200  {'Node Type': 'Gather', 'Parallel Aware': Fals...  \n",
       "\n",
       "[1201 rows x 3 columns]"
      ]
     },
     "execution_count": 134,
     "metadata": {},
     "output_type": "execute_result"
    }
   ],
   "source": [
    "full_train_df"
   ]
  },
  {
   "cell_type": "code",
   "execution_count": 135,
   "id": "7c1ae706",
   "metadata": {},
   "outputs": [],
   "source": [
    "def extract_knob_settings_from_plan(plan):\n",
    "    if not plan:  # Handle empty or missing plans\n",
    "        return {}\n",
    "\n",
    "    knobs = {\n",
    "        \"Node Type\": plan.get(\"Node Type\", \"NA\"),\n",
    "        \"Parallel Aware\": plan.get(\"Parallel Aware\", np.nan),\n",
    "        \"Workers Planned\": plan.get(\"Workers Planned\", np.nan),\n",
    "        \"Enable Seq Scan\": \"Seq Scan\" in plan.get(\"Node Type\", \"\"),\n",
    "        \"Enable Hash Join\": \"Hash Join\" in plan.get(\"Node Type\", \"\"),\n",
    "        \"Enable Merge Join\": \"Merge Join\" in plan.get(\"Node Type\", \"\"),\n",
    "        \"Enable Index Scan\": \"Index Scan\" in plan.get(\"Node Type\", \"\"),\n",
    "        \"Enable Bitmap Scan\": \"Bitmap Index Scan\" in plan.get(\"Node Type\", \"\"),\n",
    "        \"Enable Nested Loop\": \"Nest Loop\" in plan.get(\"Node Type\", \"\"),\n",
    "    }\n",
    "\n",
    "    # If there are subplans, recursively extract settings\n",
    "    if \"Plans\" in plan:\n",
    "        for subplan in plan[\"Plans\"]:\n",
    "            sub_knobs = extract_knob_settings_from_plan(subplan)\n",
    "            knobs.update(sub_knobs)\n",
    "\n",
    "    return knobs\n"
   ]
  },
  {
   "cell_type": "code",
   "execution_count": 136,
   "id": "de77b004",
   "metadata": {},
   "outputs": [
    {
     "name": "stdout",
     "output_type": "stream",
     "text": [
      "           Node Type  Parallel Aware  Workers Planned  Enable Seq Scan  \\\n",
      "0           Seq Scan            True              NaN             True   \n",
      "1           Seq Scan           False              NaN             True   \n",
      "2           Seq Scan           False              NaN             True   \n",
      "3  Bitmap Index Scan           False              NaN            False   \n",
      "4  Bitmap Index Scan           False              NaN            False   \n",
      "\n",
      "   Enable Hash Join  Enable Merge Join  Enable Index Scan  Enable Bitmap Scan  \\\n",
      "0             False              False              False               False   \n",
      "1             False              False              False               False   \n",
      "2             False              False              False               False   \n",
      "3             False              False               True                True   \n",
      "4             False              False               True                True   \n",
      "\n",
      "   Enable Nested Loop  \n",
      "0               False  \n",
      "1               False  \n",
      "2               False  \n",
      "3               False  \n",
      "4               False  \n"
     ]
    }
   ],
   "source": [
    "train_knob_settings = full_train_df[\"Plan\"].apply(extract_knob_settings_from_plan)\n",
    "train_knob_settings = pd.DataFrame(list(train_knob_settings))  # Convert list of dicts to DataFrame\n",
    "\n",
    "print(train_knob_settings.head())"
   ]
  },
  {
   "cell_type": "code",
   "execution_count": 137,
   "id": "8f69dbfd",
   "metadata": {},
   "outputs": [
    {
     "name": "stderr",
     "output_type": "stream",
     "text": [
      "C:\\Users\\Hashmi\\AppData\\Local\\Temp\\ipykernel_18676\\2942928849.py:1: FutureWarning: Downcasting object dtype arrays on .fillna, .ffill, .bfill is deprecated and will change in a future version. Call result.infer_objects(copy=False) instead. To opt-in to the future behavior, set `pd.set_option('future.no_silent_downcasting', True)`\n",
      "  train_knob_settings = train_knob_settings.fillna(False)\n"
     ]
    }
   ],
   "source": [
    "train_knob_settings = train_knob_settings.fillna(False)\n"
   ]
  },
  {
   "cell_type": "code",
   "execution_count": 138,
   "id": "cbab6e14",
   "metadata": {},
   "outputs": [
    {
     "data": {
      "text/html": [
       "<div>\n",
       "<style scoped>\n",
       "    .dataframe tbody tr th:only-of-type {\n",
       "        vertical-align: middle;\n",
       "    }\n",
       "\n",
       "    .dataframe tbody tr th {\n",
       "        vertical-align: top;\n",
       "    }\n",
       "\n",
       "    .dataframe thead th {\n",
       "        text-align: right;\n",
       "    }\n",
       "</style>\n",
       "<table border=\"1\" class=\"dataframe\">\n",
       "  <thead>\n",
       "    <tr style=\"text-align: right;\">\n",
       "      <th></th>\n",
       "      <th>Node Type</th>\n",
       "      <th>Parallel Aware</th>\n",
       "      <th>Workers Planned</th>\n",
       "      <th>Enable Seq Scan</th>\n",
       "      <th>Enable Hash Join</th>\n",
       "      <th>Enable Merge Join</th>\n",
       "      <th>Enable Index Scan</th>\n",
       "      <th>Enable Bitmap Scan</th>\n",
       "      <th>Enable Nested Loop</th>\n",
       "    </tr>\n",
       "  </thead>\n",
       "  <tbody>\n",
       "    <tr>\n",
       "      <th>0</th>\n",
       "      <td>Seq Scan</td>\n",
       "      <td>True</td>\n",
       "      <td>False</td>\n",
       "      <td>True</td>\n",
       "      <td>False</td>\n",
       "      <td>False</td>\n",
       "      <td>False</td>\n",
       "      <td>False</td>\n",
       "      <td>False</td>\n",
       "    </tr>\n",
       "    <tr>\n",
       "      <th>1</th>\n",
       "      <td>Seq Scan</td>\n",
       "      <td>False</td>\n",
       "      <td>False</td>\n",
       "      <td>True</td>\n",
       "      <td>False</td>\n",
       "      <td>False</td>\n",
       "      <td>False</td>\n",
       "      <td>False</td>\n",
       "      <td>False</td>\n",
       "    </tr>\n",
       "    <tr>\n",
       "      <th>2</th>\n",
       "      <td>Seq Scan</td>\n",
       "      <td>False</td>\n",
       "      <td>False</td>\n",
       "      <td>True</td>\n",
       "      <td>False</td>\n",
       "      <td>False</td>\n",
       "      <td>False</td>\n",
       "      <td>False</td>\n",
       "      <td>False</td>\n",
       "    </tr>\n",
       "    <tr>\n",
       "      <th>3</th>\n",
       "      <td>Bitmap Index Scan</td>\n",
       "      <td>False</td>\n",
       "      <td>False</td>\n",
       "      <td>False</td>\n",
       "      <td>False</td>\n",
       "      <td>False</td>\n",
       "      <td>True</td>\n",
       "      <td>True</td>\n",
       "      <td>False</td>\n",
       "    </tr>\n",
       "    <tr>\n",
       "      <th>4</th>\n",
       "      <td>Bitmap Index Scan</td>\n",
       "      <td>False</td>\n",
       "      <td>False</td>\n",
       "      <td>False</td>\n",
       "      <td>False</td>\n",
       "      <td>False</td>\n",
       "      <td>True</td>\n",
       "      <td>True</td>\n",
       "      <td>False</td>\n",
       "    </tr>\n",
       "    <tr>\n",
       "      <th>...</th>\n",
       "      <td>...</td>\n",
       "      <td>...</td>\n",
       "      <td>...</td>\n",
       "      <td>...</td>\n",
       "      <td>...</td>\n",
       "      <td>...</td>\n",
       "      <td>...</td>\n",
       "      <td>...</td>\n",
       "      <td>...</td>\n",
       "    </tr>\n",
       "    <tr>\n",
       "      <th>1196</th>\n",
       "      <td>Bitmap Index Scan</td>\n",
       "      <td>False</td>\n",
       "      <td>False</td>\n",
       "      <td>False</td>\n",
       "      <td>False</td>\n",
       "      <td>False</td>\n",
       "      <td>True</td>\n",
       "      <td>True</td>\n",
       "      <td>False</td>\n",
       "    </tr>\n",
       "    <tr>\n",
       "      <th>1197</th>\n",
       "      <td>Seq Scan</td>\n",
       "      <td>False</td>\n",
       "      <td>False</td>\n",
       "      <td>True</td>\n",
       "      <td>False</td>\n",
       "      <td>False</td>\n",
       "      <td>False</td>\n",
       "      <td>False</td>\n",
       "      <td>False</td>\n",
       "    </tr>\n",
       "    <tr>\n",
       "      <th>1198</th>\n",
       "      <td>Seq Scan</td>\n",
       "      <td>False</td>\n",
       "      <td>False</td>\n",
       "      <td>True</td>\n",
       "      <td>False</td>\n",
       "      <td>False</td>\n",
       "      <td>False</td>\n",
       "      <td>False</td>\n",
       "      <td>False</td>\n",
       "    </tr>\n",
       "    <tr>\n",
       "      <th>1199</th>\n",
       "      <td>Seq Scan</td>\n",
       "      <td>True</td>\n",
       "      <td>False</td>\n",
       "      <td>True</td>\n",
       "      <td>False</td>\n",
       "      <td>False</td>\n",
       "      <td>False</td>\n",
       "      <td>False</td>\n",
       "      <td>False</td>\n",
       "    </tr>\n",
       "    <tr>\n",
       "      <th>1200</th>\n",
       "      <td>Index Scan</td>\n",
       "      <td>False</td>\n",
       "      <td>False</td>\n",
       "      <td>False</td>\n",
       "      <td>False</td>\n",
       "      <td>False</td>\n",
       "      <td>True</td>\n",
       "      <td>False</td>\n",
       "      <td>False</td>\n",
       "    </tr>\n",
       "  </tbody>\n",
       "</table>\n",
       "<p>1201 rows × 9 columns</p>\n",
       "</div>"
      ],
      "text/plain": [
       "              Node Type  Parallel Aware  Workers Planned  Enable Seq Scan  \\\n",
       "0              Seq Scan            True            False             True   \n",
       "1              Seq Scan           False            False             True   \n",
       "2              Seq Scan           False            False             True   \n",
       "3     Bitmap Index Scan           False            False            False   \n",
       "4     Bitmap Index Scan           False            False            False   \n",
       "...                 ...             ...              ...              ...   \n",
       "1196  Bitmap Index Scan           False            False            False   \n",
       "1197           Seq Scan           False            False             True   \n",
       "1198           Seq Scan           False            False             True   \n",
       "1199           Seq Scan            True            False             True   \n",
       "1200         Index Scan           False            False            False   \n",
       "\n",
       "      Enable Hash Join  Enable Merge Join  Enable Index Scan  \\\n",
       "0                False              False              False   \n",
       "1                False              False              False   \n",
       "2                False              False              False   \n",
       "3                False              False               True   \n",
       "4                False              False               True   \n",
       "...                ...                ...                ...   \n",
       "1196             False              False               True   \n",
       "1197             False              False              False   \n",
       "1198             False              False              False   \n",
       "1199             False              False              False   \n",
       "1200             False              False               True   \n",
       "\n",
       "      Enable Bitmap Scan  Enable Nested Loop  \n",
       "0                  False               False  \n",
       "1                  False               False  \n",
       "2                  False               False  \n",
       "3                   True               False  \n",
       "4                   True               False  \n",
       "...                  ...                 ...  \n",
       "1196                True               False  \n",
       "1197               False               False  \n",
       "1198               False               False  \n",
       "1199               False               False  \n",
       "1200               False               False  \n",
       "\n",
       "[1201 rows x 9 columns]"
      ]
     },
     "execution_count": 138,
     "metadata": {},
     "output_type": "execute_result"
    }
   ],
   "source": [
    "train_knob_settings"
   ]
  },
  {
   "cell_type": "code",
   "execution_count": 139,
   "id": "693dd9ec",
   "metadata": {},
   "outputs": [],
   "source": [
    "full_train_df = pd.concat([full_train_df, train_knob_settings], axis=1)\n"
   ]
  },
  {
   "cell_type": "code",
   "execution_count": 140,
   "id": "dd8301be",
   "metadata": {},
   "outputs": [
    {
     "name": "stdout",
     "output_type": "stream",
     "text": [
      "Loaded queries with len  100000\n",
      "Loaded bitmaps\n"
     ]
    }
   ],
   "source": [
    "table_sample = get_job_table_sample(imdb_path+'train')"
   ]
  },
  {
   "cell_type": "code",
   "execution_count": 141,
   "id": "daf5acf2",
   "metadata": {},
   "outputs": [],
   "source": [
    "to_predict = 'both'"
   ]
  },
  {
   "cell_type": "code",
   "execution_count": 142,
   "id": "98d193b2",
   "metadata": {},
   "outputs": [],
   "source": [
    "train_ds = PlanTreeDataset(full_train_df, None, encoding, hist_file, card_norm, cost_norm, to_predict, table_sample)\n",
    "# val_ds = PlanTreeDataset(val_df, None, encoding, hist_file, card_norm, cost_norm, to_predict, table_sample)"
   ]
  },
  {
   "cell_type": "code",
   "execution_count": 143,
   "id": "26161a2e",
   "metadata": {},
   "outputs": [
    {
     "name": "stdout",
     "output_type": "stream",
     "text": [
      "{'x': tensor([[[ 0.,  0., 20.,  ...,  0.,  0.,  0.],\n",
      "         [ 1.,  1., 20.,  ...,  0.,  0.,  0.],\n",
      "         [ 2.,  0.,  1.,  ...,  0.,  0.,  0.],\n",
      "         ...,\n",
      "         [ 1.,  1.,  1.,  ...,  1.,  1.,  1.],\n",
      "         [ 1.,  1.,  1.,  ...,  1.,  1.,  1.],\n",
      "         [ 1.,  1.,  1.,  ...,  1.,  1.,  1.]]]), 'attn_bias': tensor([[[0., 0., 0., 0., 0., 0., -inf, -inf, -inf, -inf, -inf, -inf, -inf, -inf, -inf, -inf, -inf, -inf, -inf, -inf, -inf, -inf, -inf,\n",
      "          -inf, -inf, -inf, -inf, -inf, -inf, -inf, -inf],\n",
      "         [0., 0., 0., 0., 0., 0., -inf, -inf, -inf, -inf, -inf, -inf, -inf, -inf, -inf, -inf, -inf, -inf, -inf, -inf, -inf, -inf, -inf,\n",
      "          -inf, -inf, -inf, -inf, -inf, -inf, -inf, -inf],\n",
      "         [0., -inf, 0., 0., 0., 0., -inf, -inf, -inf, -inf, -inf, -inf, -inf, -inf, -inf, -inf, -inf, -inf, -inf, -inf, -inf, -inf, -inf,\n",
      "          -inf, -inf, -inf, -inf, -inf, -inf, -inf, -inf],\n",
      "         [0., -inf, -inf, 0., -inf, -inf, -inf, -inf, -inf, -inf, -inf, -inf, -inf, -inf, -inf, -inf, -inf, -inf, -inf, -inf, -inf, -inf, -inf,\n",
      "          -inf, -inf, -inf, -inf, -inf, -inf, -inf, -inf],\n",
      "         [0., -inf, -inf, -inf, 0., 0., -inf, -inf, -inf, -inf, -inf, -inf, -inf, -inf, -inf, -inf, -inf, -inf, -inf, -inf, -inf, -inf, -inf,\n",
      "          -inf, -inf, -inf, -inf, -inf, -inf, -inf, -inf],\n",
      "         [0., -inf, -inf, -inf, -inf, 0., -inf, -inf, -inf, -inf, -inf, -inf, -inf, -inf, -inf, -inf, -inf, -inf, -inf, -inf, -inf, -inf, -inf,\n",
      "          -inf, -inf, -inf, -inf, -inf, -inf, -inf, -inf],\n",
      "         [0., 0., 0., 0., 0., 0., -inf, -inf, -inf, -inf, -inf, -inf, -inf, -inf, -inf, -inf, -inf, -inf, -inf, -inf, -inf, -inf, -inf,\n",
      "          -inf, -inf, -inf, -inf, -inf, -inf, -inf, -inf],\n",
      "         [0., 0., 0., 0., 0., 0., -inf, -inf, -inf, -inf, -inf, -inf, -inf, -inf, -inf, -inf, -inf, -inf, -inf, -inf, -inf, -inf, -inf,\n",
      "          -inf, -inf, -inf, -inf, -inf, -inf, -inf, -inf],\n",
      "         [0., 0., 0., 0., 0., 0., -inf, -inf, -inf, -inf, -inf, -inf, -inf, -inf, -inf, -inf, -inf, -inf, -inf, -inf, -inf, -inf, -inf,\n",
      "          -inf, -inf, -inf, -inf, -inf, -inf, -inf, -inf],\n",
      "         [0., 0., 0., 0., 0., 0., -inf, -inf, -inf, -inf, -inf, -inf, -inf, -inf, -inf, -inf, -inf, -inf, -inf, -inf, -inf, -inf, -inf,\n",
      "          -inf, -inf, -inf, -inf, -inf, -inf, -inf, -inf],\n",
      "         [0., 0., 0., 0., 0., 0., -inf, -inf, -inf, -inf, -inf, -inf, -inf, -inf, -inf, -inf, -inf, -inf, -inf, -inf, -inf, -inf, -inf,\n",
      "          -inf, -inf, -inf, -inf, -inf, -inf, -inf, -inf],\n",
      "         [0., 0., 0., 0., 0., 0., -inf, -inf, -inf, -inf, -inf, -inf, -inf, -inf, -inf, -inf, -inf, -inf, -inf, -inf, -inf, -inf, -inf,\n",
      "          -inf, -inf, -inf, -inf, -inf, -inf, -inf, -inf],\n",
      "         [0., 0., 0., 0., 0., 0., -inf, -inf, -inf, -inf, -inf, -inf, -inf, -inf, -inf, -inf, -inf, -inf, -inf, -inf, -inf, -inf, -inf,\n",
      "          -inf, -inf, -inf, -inf, -inf, -inf, -inf, -inf],\n",
      "         [0., 0., 0., 0., 0., 0., -inf, -inf, -inf, -inf, -inf, -inf, -inf, -inf, -inf, -inf, -inf, -inf, -inf, -inf, -inf, -inf, -inf,\n",
      "          -inf, -inf, -inf, -inf, -inf, -inf, -inf, -inf],\n",
      "         [0., 0., 0., 0., 0., 0., -inf, -inf, -inf, -inf, -inf, -inf, -inf, -inf, -inf, -inf, -inf, -inf, -inf, -inf, -inf, -inf, -inf,\n",
      "          -inf, -inf, -inf, -inf, -inf, -inf, -inf, -inf],\n",
      "         [0., 0., 0., 0., 0., 0., -inf, -inf, -inf, -inf, -inf, -inf, -inf, -inf, -inf, -inf, -inf, -inf, -inf, -inf, -inf, -inf, -inf,\n",
      "          -inf, -inf, -inf, -inf, -inf, -inf, -inf, -inf],\n",
      "         [0., 0., 0., 0., 0., 0., -inf, -inf, -inf, -inf, -inf, -inf, -inf, -inf, -inf, -inf, -inf, -inf, -inf, -inf, -inf, -inf, -inf,\n",
      "          -inf, -inf, -inf, -inf, -inf, -inf, -inf, -inf],\n",
      "         [0., 0., 0., 0., 0., 0., -inf, -inf, -inf, -inf, -inf, -inf, -inf, -inf, -inf, -inf, -inf, -inf, -inf, -inf, -inf, -inf, -inf,\n",
      "          -inf, -inf, -inf, -inf, -inf, -inf, -inf, -inf],\n",
      "         [0., 0., 0., 0., 0., 0., -inf, -inf, -inf, -inf, -inf, -inf, -inf, -inf, -inf, -inf, -inf, -inf, -inf, -inf, -inf, -inf, -inf,\n",
      "          -inf, -inf, -inf, -inf, -inf, -inf, -inf, -inf],\n",
      "         [0., 0., 0., 0., 0., 0., -inf, -inf, -inf, -inf, -inf, -inf, -inf, -inf, -inf, -inf, -inf, -inf, -inf, -inf, -inf, -inf, -inf,\n",
      "          -inf, -inf, -inf, -inf, -inf, -inf, -inf, -inf],\n",
      "         [0., 0., 0., 0., 0., 0., -inf, -inf, -inf, -inf, -inf, -inf, -inf, -inf, -inf, -inf, -inf, -inf, -inf, -inf, -inf, -inf, -inf,\n",
      "          -inf, -inf, -inf, -inf, -inf, -inf, -inf, -inf],\n",
      "         [0., 0., 0., 0., 0., 0., -inf, -inf, -inf, -inf, -inf, -inf, -inf, -inf, -inf, -inf, -inf, -inf, -inf, -inf, -inf, -inf, -inf,\n",
      "          -inf, -inf, -inf, -inf, -inf, -inf, -inf, -inf],\n",
      "         [0., 0., 0., 0., 0., 0., -inf, -inf, -inf, -inf, -inf, -inf, -inf, -inf, -inf, -inf, -inf, -inf, -inf, -inf, -inf, -inf, -inf,\n",
      "          -inf, -inf, -inf, -inf, -inf, -inf, -inf, -inf],\n",
      "         [0., 0., 0., 0., 0., 0., -inf, -inf, -inf, -inf, -inf, -inf, -inf, -inf, -inf, -inf, -inf, -inf, -inf, -inf, -inf, -inf, -inf,\n",
      "          -inf, -inf, -inf, -inf, -inf, -inf, -inf, -inf],\n",
      "         [0., 0., 0., 0., 0., 0., -inf, -inf, -inf, -inf, -inf, -inf, -inf, -inf, -inf, -inf, -inf, -inf, -inf, -inf, -inf, -inf, -inf,\n",
      "          -inf, -inf, -inf, -inf, -inf, -inf, -inf, -inf],\n",
      "         [0., 0., 0., 0., 0., 0., -inf, -inf, -inf, -inf, -inf, -inf, -inf, -inf, -inf, -inf, -inf, -inf, -inf, -inf, -inf, -inf, -inf,\n",
      "          -inf, -inf, -inf, -inf, -inf, -inf, -inf, -inf],\n",
      "         [0., 0., 0., 0., 0., 0., -inf, -inf, -inf, -inf, -inf, -inf, -inf, -inf, -inf, -inf, -inf, -inf, -inf, -inf, -inf, -inf, -inf,\n",
      "          -inf, -inf, -inf, -inf, -inf, -inf, -inf, -inf],\n",
      "         [0., 0., 0., 0., 0., 0., -inf, -inf, -inf, -inf, -inf, -inf, -inf, -inf, -inf, -inf, -inf, -inf, -inf, -inf, -inf, -inf, -inf,\n",
      "          -inf, -inf, -inf, -inf, -inf, -inf, -inf, -inf],\n",
      "         [0., 0., 0., 0., 0., 0., -inf, -inf, -inf, -inf, -inf, -inf, -inf, -inf, -inf, -inf, -inf, -inf, -inf, -inf, -inf, -inf, -inf,\n",
      "          -inf, -inf, -inf, -inf, -inf, -inf, -inf, -inf],\n",
      "         [0., 0., 0., 0., 0., 0., -inf, -inf, -inf, -inf, -inf, -inf, -inf, -inf, -inf, -inf, -inf, -inf, -inf, -inf, -inf, -inf, -inf,\n",
      "          -inf, -inf, -inf, -inf, -inf, -inf, -inf, -inf],\n",
      "         [0., 0., 0., 0., 0., 0., -inf, -inf, -inf, -inf, -inf, -inf, -inf, -inf, -inf, -inf, -inf, -inf, -inf, -inf, -inf, -inf, -inf,\n",
      "          -inf, -inf, -inf, -inf, -inf, -inf, -inf, -inf]]]), 'rel_pos': tensor([[[ 1,  2,  3,  3,  4,  0,  0,  0,  0,  0,  0,  0,  0,  0,  0,  0,  0,\n",
      "           0,  0,  0,  0,  0,  0,  0,  0,  0,  0,  0,  0,  0],\n",
      "         [61,  1,  2,  2,  3,  0,  0,  0,  0,  0,  0,  0,  0,  0,  0,  0,  0,\n",
      "           0,  0,  0,  0,  0,  0,  0,  0,  0,  0,  0,  0,  0],\n",
      "         [61, 61,  1, 61, 61,  0,  0,  0,  0,  0,  0,  0,  0,  0,  0,  0,  0,\n",
      "           0,  0,  0,  0,  0,  0,  0,  0,  0,  0,  0,  0,  0],\n",
      "         [61, 61, 61,  1,  2,  0,  0,  0,  0,  0,  0,  0,  0,  0,  0,  0,  0,\n",
      "           0,  0,  0,  0,  0,  0,  0,  0,  0,  0,  0,  0,  0],\n",
      "         [61, 61, 61, 61,  1,  0,  0,  0,  0,  0,  0,  0,  0,  0,  0,  0,  0,\n",
      "           0,  0,  0,  0,  0,  0,  0,  0,  0,  0,  0,  0,  0],\n",
      "         [ 0,  0,  0,  0,  0,  0,  0,  0,  0,  0,  0,  0,  0,  0,  0,  0,  0,\n",
      "           0,  0,  0,  0,  0,  0,  0,  0,  0,  0,  0,  0,  0],\n",
      "         [ 0,  0,  0,  0,  0,  0,  0,  0,  0,  0,  0,  0,  0,  0,  0,  0,  0,\n",
      "           0,  0,  0,  0,  0,  0,  0,  0,  0,  0,  0,  0,  0],\n",
      "         [ 0,  0,  0,  0,  0,  0,  0,  0,  0,  0,  0,  0,  0,  0,  0,  0,  0,\n",
      "           0,  0,  0,  0,  0,  0,  0,  0,  0,  0,  0,  0,  0],\n",
      "         [ 0,  0,  0,  0,  0,  0,  0,  0,  0,  0,  0,  0,  0,  0,  0,  0,  0,\n",
      "           0,  0,  0,  0,  0,  0,  0,  0,  0,  0,  0,  0,  0],\n",
      "         [ 0,  0,  0,  0,  0,  0,  0,  0,  0,  0,  0,  0,  0,  0,  0,  0,  0,\n",
      "           0,  0,  0,  0,  0,  0,  0,  0,  0,  0,  0,  0,  0],\n",
      "         [ 0,  0,  0,  0,  0,  0,  0,  0,  0,  0,  0,  0,  0,  0,  0,  0,  0,\n",
      "           0,  0,  0,  0,  0,  0,  0,  0,  0,  0,  0,  0,  0],\n",
      "         [ 0,  0,  0,  0,  0,  0,  0,  0,  0,  0,  0,  0,  0,  0,  0,  0,  0,\n",
      "           0,  0,  0,  0,  0,  0,  0,  0,  0,  0,  0,  0,  0],\n",
      "         [ 0,  0,  0,  0,  0,  0,  0,  0,  0,  0,  0,  0,  0,  0,  0,  0,  0,\n",
      "           0,  0,  0,  0,  0,  0,  0,  0,  0,  0,  0,  0,  0],\n",
      "         [ 0,  0,  0,  0,  0,  0,  0,  0,  0,  0,  0,  0,  0,  0,  0,  0,  0,\n",
      "           0,  0,  0,  0,  0,  0,  0,  0,  0,  0,  0,  0,  0],\n",
      "         [ 0,  0,  0,  0,  0,  0,  0,  0,  0,  0,  0,  0,  0,  0,  0,  0,  0,\n",
      "           0,  0,  0,  0,  0,  0,  0,  0,  0,  0,  0,  0,  0],\n",
      "         [ 0,  0,  0,  0,  0,  0,  0,  0,  0,  0,  0,  0,  0,  0,  0,  0,  0,\n",
      "           0,  0,  0,  0,  0,  0,  0,  0,  0,  0,  0,  0,  0],\n",
      "         [ 0,  0,  0,  0,  0,  0,  0,  0,  0,  0,  0,  0,  0,  0,  0,  0,  0,\n",
      "           0,  0,  0,  0,  0,  0,  0,  0,  0,  0,  0,  0,  0],\n",
      "         [ 0,  0,  0,  0,  0,  0,  0,  0,  0,  0,  0,  0,  0,  0,  0,  0,  0,\n",
      "           0,  0,  0,  0,  0,  0,  0,  0,  0,  0,  0,  0,  0],\n",
      "         [ 0,  0,  0,  0,  0,  0,  0,  0,  0,  0,  0,  0,  0,  0,  0,  0,  0,\n",
      "           0,  0,  0,  0,  0,  0,  0,  0,  0,  0,  0,  0,  0],\n",
      "         [ 0,  0,  0,  0,  0,  0,  0,  0,  0,  0,  0,  0,  0,  0,  0,  0,  0,\n",
      "           0,  0,  0,  0,  0,  0,  0,  0,  0,  0,  0,  0,  0],\n",
      "         [ 0,  0,  0,  0,  0,  0,  0,  0,  0,  0,  0,  0,  0,  0,  0,  0,  0,\n",
      "           0,  0,  0,  0,  0,  0,  0,  0,  0,  0,  0,  0,  0],\n",
      "         [ 0,  0,  0,  0,  0,  0,  0,  0,  0,  0,  0,  0,  0,  0,  0,  0,  0,\n",
      "           0,  0,  0,  0,  0,  0,  0,  0,  0,  0,  0,  0,  0],\n",
      "         [ 0,  0,  0,  0,  0,  0,  0,  0,  0,  0,  0,  0,  0,  0,  0,  0,  0,\n",
      "           0,  0,  0,  0,  0,  0,  0,  0,  0,  0,  0,  0,  0],\n",
      "         [ 0,  0,  0,  0,  0,  0,  0,  0,  0,  0,  0,  0,  0,  0,  0,  0,  0,\n",
      "           0,  0,  0,  0,  0,  0,  0,  0,  0,  0,  0,  0,  0],\n",
      "         [ 0,  0,  0,  0,  0,  0,  0,  0,  0,  0,  0,  0,  0,  0,  0,  0,  0,\n",
      "           0,  0,  0,  0,  0,  0,  0,  0,  0,  0,  0,  0,  0],\n",
      "         [ 0,  0,  0,  0,  0,  0,  0,  0,  0,  0,  0,  0,  0,  0,  0,  0,  0,\n",
      "           0,  0,  0,  0,  0,  0,  0,  0,  0,  0,  0,  0,  0],\n",
      "         [ 0,  0,  0,  0,  0,  0,  0,  0,  0,  0,  0,  0,  0,  0,  0,  0,  0,\n",
      "           0,  0,  0,  0,  0,  0,  0,  0,  0,  0,  0,  0,  0],\n",
      "         [ 0,  0,  0,  0,  0,  0,  0,  0,  0,  0,  0,  0,  0,  0,  0,  0,  0,\n",
      "           0,  0,  0,  0,  0,  0,  0,  0,  0,  0,  0,  0,  0],\n",
      "         [ 0,  0,  0,  0,  0,  0,  0,  0,  0,  0,  0,  0,  0,  0,  0,  0,  0,\n",
      "           0,  0,  0,  0,  0,  0,  0,  0,  0,  0,  0,  0,  0],\n",
      "         [ 0,  0,  0,  0,  0,  0,  0,  0,  0,  0,  0,  0,  0,  0,  0,  0,  0,\n",
      "           0,  0,  0,  0,  0,  0,  0,  0,  0,  0,  0,  0,  0]]]), 'heights': tensor([[4, 3, 1, 2, 1, 0, 0, 0, 0, 0, 0, 0, 0, 0, 0, 0, 0, 0, 0, 0, 0, 0, 0, 0,\n",
      "         0, 0, 0, 0, 0, 0]])}\n",
      "(tensor(0.6348, dtype=torch.float64), tensor(0.))\n"
     ]
    }
   ],
   "source": [
    "# Fetch the first sample from the dataset\n",
    "sample, label = train_ds[0]\n",
    "print(sample)  # This will show the feature data\n",
    "print(label)   # This will show the corresponding target labels (cost or knobs)\n"
   ]
  },
  {
   "cell_type": "code",
   "execution_count": 144,
   "id": "dbb2f350",
   "metadata": {},
   "outputs": [
    {
     "name": "stdout",
     "output_type": "stream",
     "text": [
      "Feature structure of the first sample: dict_keys(['x', 'attn_bias', 'rel_pos', 'heights'])\n",
      "Features: tensor([[[ 0.,  0., 20.,  ...,  0.,  0.,  0.],\n",
      "         [ 1.,  1., 20.,  ...,  0.,  0.,  0.],\n",
      "         [ 2.,  0.,  1.,  ...,  0.,  0.,  0.],\n",
      "         ...,\n",
      "         [ 1.,  1.,  1.,  ...,  1.,  1.,  1.],\n",
      "         [ 1.,  1.,  1.,  ...,  1.,  1.,  1.],\n",
      "         [ 1.,  1.,  1.,  ...,  1.,  1.,  1.]]])\n"
     ]
    }
   ],
   "source": [
    "# Inspect the feature structure for the first sample\n",
    "print(f\"Feature structure of the first sample: {sample.keys()}\")  # Check the keys in the sample dict\n",
    "\n",
    "# Print the actual feature data\n",
    "print(f\"Features: {sample['x'][:10]}\")  # Display a part of the feature data (first 10 elements)\n"
   ]
  },
  {
   "cell_type": "code",
   "execution_count": 145,
   "id": "7c961703",
   "metadata": {},
   "outputs": [
    {
     "name": "stdout",
     "output_type": "stream",
     "text": [
      "Shape of features: torch.Size([1, 30, 1165])\n",
      "Shape of attention bias: torch.Size([1, 31, 31])\n",
      "Shape of relative position: torch.Size([1, 30, 30])\n"
     ]
    }
   ],
   "source": [
    "# Check dimensions of features and labels\n",
    "print(f\"Shape of features: {sample['x'].shape}\")\n",
    "print(f\"Shape of attention bias: {sample['attn_bias'].shape}\")\n",
    "print(f\"Shape of relative position: {sample['rel_pos'].shape}\")\n"
   ]
  },
  {
   "cell_type": "code",
   "execution_count": 146,
   "id": "743fef98",
   "metadata": {},
   "outputs": [
    {
     "name": "stdout",
     "output_type": "stream",
     "text": [
      "Label for first sample: (tensor(0.6348, dtype=torch.float64), tensor(0.))\n"
     ]
    }
   ],
   "source": [
    "# Inspect the label\n",
    "print(f\"Label for first sample: {label}\")\n"
   ]
  },
  {
   "cell_type": "code",
   "execution_count": 147,
   "id": "edd66cd6",
   "metadata": {},
   "outputs": [],
   "source": [
    "def save_train_dataset_to_csv(train_ds, filename):\n",
    "    rows = []\n",
    "\n",
    "    for i in range(len(train_ds)):\n",
    "        # Extract collated_dicts and labels\n",
    "        features, (cost_label, hint_label) = train_ds[i]\n",
    "        \n",
    "        # Flatten features for easier CSV representation\n",
    "        features_flattened = {f\"feature_{j}\": value for j, value in enumerate(features['x'].flatten().numpy())}\n",
    "        \n",
    "        # Add cost and card labels\n",
    "        features_flattened['cost_label'] = cost_label.item()\n",
    "        # features_flattened['card_label'] = card_label.item()\n",
    "        features_flattened['hint_label'] = hint_label.item()\n",
    "        \n",
    "        \n",
    "        rows.append(features_flattened)\n",
    "    \n",
    "    # Create DataFrame\n",
    "    df = pd.DataFrame(rows)\n",
    "    # \n",
    "    # Save to CSV\n",
    "    df.to_csv(filename, index=False)\n",
    "    print(f\"Training dataset saved to {filename}\")"
   ]
  },
  {
   "cell_type": "code",
   "execution_count": 148,
   "id": "c39ee564",
   "metadata": {},
   "outputs": [
    {
     "data": {
      "text/plain": [
       "tensor([0., 2., 2.,  ..., 1., 0., 0.])"
      ]
     },
     "execution_count": 148,
     "metadata": {},
     "output_type": "execute_result"
    }
   ],
   "source": [
    "train_ds.knob_labels"
   ]
  },
  {
   "cell_type": "code",
   "execution_count": 149,
   "id": "0c9daedd",
   "metadata": {},
   "outputs": [],
   "source": [
    "# save_train_dataset_to_csv(train_ds, \"out/trian_dataset.csv\")\n",
    "# save_train_dataset_to_csv(train_ds, \"out/trian2_dataset.csv\")"
   ]
  },
  {
   "cell_type": "markdown",
   "id": "65968a40",
   "metadata": {},
   "source": [
    "SVM for classification"
   ]
  },
  {
   "cell_type": "code",
   "execution_count": 150,
   "id": "8418434d",
   "metadata": {},
   "outputs": [],
   "source": [
    "# import pandas as pd\n",
    "\n",
    "# # Load the CSV file\n",
    "# df = pd.read_csv(\"out/trian_dataset.csv\")\n",
    "\n",
    "# # Display first few rows\n",
    "# print(df.head())\n",
    "\n",
    "# # Check column names\n",
    "# print(df.columns)\n"
   ]
  },
  {
   "cell_type": "code",
   "execution_count": 151,
   "id": "af7cc38b",
   "metadata": {},
   "outputs": [
    {
     "name": "stdout",
     "output_type": "stream",
     "text": [
      "0\n"
     ]
    }
   ],
   "source": [
    "print(df.isnull().sum().sum())  # Total number of missing values\n"
   ]
  },
  {
   "cell_type": "code",
   "execution_count": 152,
   "id": "35b41111",
   "metadata": {},
   "outputs": [
    {
     "name": "stdout",
     "output_type": "stream",
     "text": [
      "(1201, 2)\n",
      "Index(['id', 'json'], dtype='object')\n"
     ]
    }
   ],
   "source": [
    "print(df.shape)  # Should match expected number of samples and features\n",
    "print(df.columns[:10])  # Print first 10 columns to confirm naming\n"
   ]
  },
  {
   "cell_type": "code",
   "execution_count": 153,
   "id": "23fdd56f",
   "metadata": {},
   "outputs": [],
   "source": [
    "# print(df.describe())  # Check min/max values for unexpected values\n"
   ]
  },
  {
   "cell_type": "code",
   "execution_count": 154,
   "id": "e3ef9a0c",
   "metadata": {},
   "outputs": [],
   "source": [
    "import pandas as pd\n",
    "from sklearn.model_selection import train_test_split\n",
    "from sklearn.svm import SVC\n",
    "from sklearn.metrics import accuracy_score, precision_score, recall_score\n"
   ]
  },
  {
   "cell_type": "code",
   "execution_count": 155,
   "id": "7b7842e0",
   "metadata": {},
   "outputs": [],
   "source": [
    "from sklearn.discriminant_analysis import StandardScaler\n",
    "from sklearn.ensemble import GradientBoostingClassifier\n",
    "\n",
    "\n",
    "def read_csv(file_path):\n",
    "    data = pd.read_csv(file_path)\n",
    "    return data\n",
    "\n",
    "def extract_features_labels(data, label_column):\n",
    "    X = data.drop(columns=[label_column])  # Features\n",
    "    y = data[label_column]                 # Labels\n",
    "    return X, y\n",
    "\n",
    "def train_svm(X_train, y_train):\n",
    "    svm = SVC(C=0.1, kernel='linear', class_weight='balanced', random_state=42)\n",
    "    svm.fit(X_train, y_train)\n",
    "    return svm\n",
    "\n",
    "def evaluate_model(model, X_test, y_test):\n",
    "    y_pred = model.predict(X_test)\n",
    "    accuracy = accuracy_score(y_test, y_pred)\n",
    "    precision = precision_score(y_test, y_pred, average='weighted', zero_division=1)\n",
    "    recall = recall_score(y_test, y_pred, average='weighted', zero_division=1)\n",
    "    return accuracy, precision, recall\n",
    "\n",
    "def preprocess_features(X):\n",
    "    # Standardize features for SVM (if numerical)\n",
    "    scaler = StandardScaler()\n",
    "    X_scaled = scaler.fit_transform(X)\n",
    "    return X_scaled\n",
    "\n",
    "# Train Gradient Boosting Classifier\n",
    "def train_gradient_boosting(X_train, y_train):\n",
    "    gbc = GradientBoostingClassifier(random_state=42)\n",
    "    gbc.fit(X_train, y_train)\n",
    "    return gbc"
   ]
  },
  {
   "cell_type": "code",
   "execution_count": 156,
   "id": "b27f7944",
   "metadata": {},
   "outputs": [],
   "source": [
    "from sklearn.calibration import LabelEncoder\n",
    "\n",
    "\n",
    "file_path = \"out/trian2_dataset.csv\" \n",
    "label_column = \"hint_label\"       # Update with your label column name\n",
    "\n",
    "    # Read and process the data\n",
    "data = read_csv(file_path)\n",
    "X, y = extract_features_labels(data, label_column)\n",
    "# Encode labels if they are categorical\n",
    "if y.dtype == 'object' or y.dtype.name == 'category':\n",
    "    label_encoder = LabelEncoder()\n",
    "    y = label_encoder.fit_transform(y)\n",
    "\n"
   ]
  },
  {
   "cell_type": "code",
   "execution_count": 157,
   "id": "4dc87add",
   "metadata": {},
   "outputs": [
    {
     "name": "stdout",
     "output_type": "stream",
     "text": [
      "Missing values before scaling: 0\n"
     ]
    }
   ],
   "source": [
    "# Convert X to DataFrame to use isnull\n",
    "X_df = pd.DataFrame(X)\n",
    "\n",
    "# Check if there are any missing values in the dataset\n",
    "print(f\"Missing values before scaling: {X_df.isnull().sum().sum()}\")"
   ]
  },
  {
   "cell_type": "code",
   "execution_count": 158,
   "id": "e619b5df",
   "metadata": {},
   "outputs": [
    {
     "data": {
      "image/png": "[encoded data removed]",
      "text/plain": [
       "<Figure size 800x400 with 1 Axes>"
      ]
     },
     "metadata": {},
     "output_type": "display_data"
    }
   ],
   "source": [
    "# Visualize the distribution of a feature before scaling\n",
    "import seaborn as sns\n",
    "import matplotlib.pyplot as plt\n",
    "import numpy as np\n",
    "import pandas as pd\n",
    "\n",
    "feature_idx = 0  # Index of the feature to visualize\n",
    "plt.figure(figsize=(8, 4))\n",
    "sns.histplot(X_df.iloc[:, feature_idx], kde=True)\n",
    "plt.title(f\"Feature {feature_idx} Distribution Before Scaling\")\n",
    "plt.show()"
   ]
  },
  {
   "cell_type": "code",
   "execution_count": 159,
   "id": "857ffe4b",
   "metadata": {},
   "outputs": [],
   "source": [
    "# Preprocess features\n",
    "X = preprocess_features(X)\n"
   ]
  },
  {
   "cell_type": "code",
   "execution_count": 160,
   "id": "1b8eae89",
   "metadata": {},
   "outputs": [
    {
     "data": {
      "image/png": "[encoded data removed]",
      "text/plain": [
       "<Figure size 800x400 with 1 Axes>"
      ]
     },
     "metadata": {},
     "output_type": "display_data"
    }
   ],
   "source": [
    "# Convert scaled features to DataFrame for easier analysis\n",
    "X_scaled_df = pd.DataFrame(X)\n",
    "\n",
    "# Visualize the same feature after scaling\n",
    "plt.figure(figsize=(8, 4))\n",
    "sns.histplot(X_scaled_df[feature_idx], kde=True)\n",
    "plt.title(f\"Feature {feature_idx} Distribution After Scaling\")\n",
    "plt.show()"
   ]
  },
  {
   "cell_type": "code",
   "execution_count": 161,
   "id": "aae2bc93",
   "metadata": {},
   "outputs": [
    {
     "data": {
      "image/png": "[encoded data removed]",
      "text/plain": [
       "<Figure size 1000x600 with 1 Axes>"
      ]
     },
     "metadata": {},
     "output_type": "display_data"
    }
   ],
   "source": [
    "# Extract the features and labels from your PlanTreeDataset (assuming it's a dataset object with the required data)\n",
    "features = train_ds.collated_dicts  # If you're working with collated_dicts or modify this to match your features\n",
    "df_features = pd.DataFrame(features)\n",
    "\n",
    "# Check for missing values in the features DataFrame\n",
    "plt.figure(figsize=(10, 6))\n",
    "sns.heatmap(df_features.isnull(), cbar=False, cmap='viridis')\n",
    "plt.title('Missing Data Heatmap')\n",
    "plt.show()"
   ]
  },
  {
   "cell_type": "code",
   "execution_count": 162,
   "id": "dc3a85e4",
   "metadata": {},
   "outputs": [],
   "source": [
    "X_train, X_test, y_train, y_test = train_test_split(X, y, test_size=0.2, random_state=42, stratify=y)\n",
    "\n"
   ]
  },
  {
   "cell_type": "code",
   "execution_count": 163,
   "id": "a62335cd",
   "metadata": {},
   "outputs": [
    {
     "name": "stdout",
     "output_type": "stream",
     "text": [
      "New Train-Test Overlap: 0\n"
     ]
    }
   ],
   "source": [
    "# Convert to sets for strict comparison\n",
    "train_tuples = set(map(tuple, X_train))\n",
    "test_tuples = set(map(tuple, X_test))\n",
    "\n",
    "# Find exact intersection (should be 0)\n",
    "overlap = train_tuples & test_tuples\n",
    "print(f\"New Train-Test Overlap: {len(overlap)}\") "
   ]
  },
  {
   "cell_type": "code",
   "execution_count": 164,
   "id": "e452005d",
   "metadata": {},
   "outputs": [
    {
     "name": "stdout",
     "output_type": "stream",
     "text": [
      "[0. 1. 2. 4. 6. 7. 8.] [0. 1. 2. 4. 6. 7. 8.]\n"
     ]
    }
   ],
   "source": [
    "print(np.unique(y_train), np.unique(y_test))  # Should differ between training and testing\n"
   ]
  },
  {
   "cell_type": "code",
   "execution_count": 165,
   "id": "d75a2070",
   "metadata": {},
   "outputs": [
    {
     "name": "stdout",
     "output_type": "stream",
     "text": [
      "Overlap Between Train & Test: {0.0, 1.0, 2.0, 4.0, 6.0, 7.0, 8.0}\n"
     ]
    }
   ],
   "source": [
    "print(f\"Overlap Between Train & Test: {set(y_train) & set(y_test)}\")\n"
   ]
  },
  {
   "cell_type": "code",
   "execution_count": 166,
   "id": "53a783c9",
   "metadata": {},
   "outputs": [
    {
     "data": {
      "text/plain": [
       "33552960"
      ]
     },
     "execution_count": 166,
     "metadata": {},
     "output_type": "execute_result"
    }
   ],
   "source": [
    "X_train.size"
   ]
  },
  {
   "cell_type": "code",
   "execution_count": 167,
   "id": "643d7a30",
   "metadata": {},
   "outputs": [
    {
     "name": "stdout",
     "output_type": "stream",
     "text": [
      "Accuracy: 0.98\n",
      "Precision: 0.98\n",
      "Recall: 0.98\n"
     ]
    }
   ],
   "source": [
    "svm_model = train_svm(X_train, y_train)\n",
    "accuracy, precision, recall = evaluate_model(svm_model, X_test, y_test)\n",
    "\n",
    "print(f\"Accuracy: {accuracy:.2f}\")\n",
    "print(f\"Precision: {precision:.2f}\")\n",
    "print(f\"Recall: {recall:.2f}\")"
   ]
  },
  {
   "cell_type": "code",
   "execution_count": 168,
   "id": "2f103a4f",
   "metadata": {},
   "outputs": [
    {
     "name": "stdout",
     "output_type": "stream",
     "text": [
      "Predictions: [1. 4. 8. 1. 0. 1. 2. 1. 8. 0. 2. 0. 0. 1. 4. 1. 0. 7. 7. 4. 1. 0. 0. 0.\n",
      " 2. 0. 2. 0. 4. 0. 1. 0. 4. 7. 0. 0. 0. 0. 8. 0. 1. 0. 0. 1. 1. 0. 0. 6.\n",
      " 0. 7. 1. 2. 0. 0. 0. 0. 1. 0. 0. 0. 0. 0. 0. 6. 0. 0. 1. 6. 4. 0. 0. 0.\n",
      " 0. 7. 0. 0. 4. 0. 2. 7. 4. 8. 4. 0. 1. 0. 0. 2. 0. 0. 0. 0. 1. 1. 0. 4.\n",
      " 0. 4. 1. 7. 4. 4. 4. 6. 8. 0. 0. 1. 7. 2. 2. 0. 7. 1. 0. 0. 4. 0. 0. 0.\n",
      " 7. 0. 1. 1. 6. 1. 1. 6. 0. 7. 1. 2. 2. 0. 0. 6. 4. 6. 0. 0. 6. 7. 0. 7.\n",
      " 7. 8. 1. 0. 2. 2. 4. 2. 6. 7. 4. 0. 2. 7. 7. 0. 1. 8. 6. 0. 8. 0. 0. 2.\n",
      " 0. 2. 0. 6. 8. 1. 1. 0. 0. 0. 0. 1. 6. 6. 2. 1. 6. 1. 0. 7. 4. 1. 4. 1.\n",
      " 0. 7. 1. 8. 0. 0. 4. 0. 4. 4. 0. 4. 0. 2. 8. 0. 0. 1. 0. 0. 6. 0. 0. 0.\n",
      " 1. 0. 4. 0. 2. 2. 2. 0. 2. 1. 0. 2. 2. 0. 0. 1. 6. 1. 0. 0. 0. 7. 1. 0.\n",
      " 0.]\n",
      "Actual Labels: [1. 4. 8. 1. 0. 1. 2. 1. 8. 0. 2. 0. 0. 1. 4. 1. 0. 7. 7. 4. 1. 0. 0. 0.\n",
      " 2. 0. 2. 0. 4. 0. 1. 0. 4. 7. 0. 0. 6. 0. 8. 0. 1. 0. 0. 1. 1. 0. 0. 6.\n",
      " 0. 7. 1. 2. 0. 0. 0. 0. 1. 6. 0. 0. 0. 0. 0. 6. 0. 0. 1. 6. 4. 0. 0. 0.\n",
      " 0. 7. 0. 0. 4. 0. 2. 7. 4. 8. 4. 0. 1. 0. 0. 2. 0. 0. 0. 0. 1. 1. 0. 4.\n",
      " 0. 4. 1. 7. 4. 4. 4. 6. 8. 0. 0. 1. 7. 2. 2. 0. 7. 1. 0. 0. 4. 0. 0. 0.\n",
      " 7. 0. 1. 1. 6. 1. 1. 6. 0. 7. 1. 2. 2. 0. 0. 6. 4. 6. 0. 0. 6. 7. 0. 7.\n",
      " 7. 8. 1. 0. 2. 2. 4. 2. 6. 7. 4. 0. 2. 7. 7. 0. 1. 8. 6. 0. 8. 0. 0. 2.\n",
      " 0. 2. 0. 6. 8. 1. 1. 0. 0. 0. 0. 1. 8. 6. 2. 1. 6. 1. 0. 7. 4. 1. 4. 1.\n",
      " 0. 7. 1. 8. 0. 0. 4. 0. 4. 4. 0. 4. 0. 2. 8. 0. 0. 1. 0. 0. 6. 0. 0. 0.\n",
      " 1. 0. 4. 0. 2. 2. 2. 1. 2. 1. 0. 2. 2. 0. 0. 1. 6. 1. 0. 0. 0. 7. 1. 0.\n",
      " 0.]\n",
      "Prediction Distribution: 0.0    102\n",
      "1.0     41\n",
      "4.0     25\n",
      "2.0     25\n",
      "7.0     20\n",
      "6.0     17\n",
      "8.0     11\n",
      "Name: count, dtype: int64\n"
     ]
    }
   ],
   "source": [
    "# Make predictions\n",
    "y_pred = svm_model.predict(X_test)\n",
    "\n",
    "# Compare predictions with actual labels\n",
    "print(\"Predictions:\", y_pred)\n",
    "print(\"Actual Labels:\", y_test.values)\n",
    "\n",
    "# Analyze the prediction distribution\n",
    "print(\"Prediction Distribution:\", pd.Series(y_pred).value_counts())"
   ]
  },
  {
   "cell_type": "code",
   "execution_count": 169,
   "id": "cde94823",
   "metadata": {},
   "outputs": [
    {
     "name": "stdout",
     "output_type": "stream",
     "text": [
      "Train Accuracy: 1.00\n",
      "Test Accuracy: 0.98\n"
     ]
    }
   ],
   "source": [
    "train_accuracy = svm_model.score(X_train, y_train)\n",
    "test_accuracy = svm_model.score(X_test, y_test)\n",
    "print(f\"Train Accuracy: {train_accuracy:.2f}\")\n",
    "print(f\"Test Accuracy: {test_accuracy:.2f}\")\n"
   ]
  },
  {
   "cell_type": "code",
   "execution_count": 170,
   "id": "af2ad6f5",
   "metadata": {},
   "outputs": [
    {
     "name": "stdout",
     "output_type": "stream",
     "text": [
      "[{'node_type': 'Hash Join', 'join_type': 'mi_idx.movie_id = t.id'}]\n"
     ]
    }
   ],
   "source": [
    "# Assuming y_pred contains the predicted knob settings (encoded numerical values)\n",
    "predicted_knobs = []\n",
    "\n",
    "for idx in y_pred:\n",
    "    # Convert the predicted index back to its corresponding knob setting using the encoding mappings\n",
    "    node_type = encoding.idx2type[idx]\n",
    "    join_type = encoding.idx2join[idx]\n",
    "    \n",
    "    # Combine these knob settings (you can add more as needed)\n",
    "    knob_setting = {\n",
    "        'node_type': node_type,\n",
    "        'join_type': join_type\n",
    "    }\n",
    "    predicted_knobs.append(knob_setting)\n",
    "\n",
    "# Now predicted_knobs contains only the knob settings for each prediction\n",
    "print(predicted_knobs[:1])  # Display the first 10 predicted knob settings\n"
   ]
  },
  {
   "cell_type": "code",
   "execution_count": 178,
   "id": "ecc25599",
   "metadata": {},
   "outputs": [],
   "source": [
    "import numpy as np\n",
    "import torch\n",
    "\n",
    "# Ensure y_train and y_test are NumPy arrays\n",
    "if isinstance(y_train, pd.Series):\n",
    "    y_train = y_train.to_numpy(dtype=int)  # Convert from Pandas to NumPy\n",
    "else:\n",
    "    y_train = np.array(y_train, dtype=int)  # Convert if it's not already NumPy\n",
    "\n",
    "if isinstance(y_test, pd.Series):\n",
    "    y_test = y_test.to_numpy(dtype=int)\n",
    "else:\n",
    "    y_test = np.array(y_test, dtype=int)"
   ]
  },
  {
   "cell_type": "code",
   "execution_count": 182,
   "id": "ad265f9d",
   "metadata": {},
   "outputs": [
    {
     "name": "stdout",
     "output_type": "stream",
     "text": [
      "Epoch [1/50], Loss: 1.1898, Accuracy: 78.96%\n",
      "Epoch [2/50], Loss: 0.2756, Accuracy: 93.75%\n",
      "Epoch [3/50], Loss: 0.1582, Accuracy: 94.79%\n",
      "Epoch [4/50], Loss: 0.1091, Accuracy: 96.35%\n",
      "Epoch [5/50], Loss: 0.1429, Accuracy: 95.94%\n",
      "Epoch [6/50], Loss: 0.1298, Accuracy: 96.04%\n",
      "Epoch [7/50], Loss: 0.1359, Accuracy: 97.60%\n",
      "Epoch [8/50], Loss: 0.0573, Accuracy: 98.12%\n",
      "Epoch [9/50], Loss: 0.0362, Accuracy: 98.85%\n",
      "Epoch [10/50], Loss: 0.0407, Accuracy: 98.65%\n",
      "Epoch [11/50], Loss: 0.0418, Accuracy: 98.75%\n",
      "Epoch [12/50], Loss: 0.0192, Accuracy: 99.69%\n",
      "Epoch [13/50], Loss: 0.0177, Accuracy: 99.69%\n",
      "Epoch [14/50], Loss: 0.0133, Accuracy: 99.69%\n",
      "Epoch [15/50], Loss: 0.0162, Accuracy: 99.27%\n",
      "Epoch [16/50], Loss: 0.0173, Accuracy: 99.58%\n",
      "Epoch [17/50], Loss: 0.0066, Accuracy: 99.90%\n",
      "Epoch [18/50], Loss: 0.0087, Accuracy: 99.79%\n",
      "Epoch [19/50], Loss: 0.0138, Accuracy: 99.58%\n",
      "Epoch [20/50], Loss: 0.0051, Accuracy: 100.00%\n",
      "Epoch [21/50], Loss: 0.0052, Accuracy: 99.90%\n",
      "Epoch [22/50], Loss: 0.0060, Accuracy: 99.90%\n",
      "Epoch [23/50], Loss: 0.0028, Accuracy: 100.00%\n",
      "Epoch [24/50], Loss: 0.0032, Accuracy: 99.90%\n",
      "Epoch [25/50], Loss: 0.0032, Accuracy: 99.90%\n",
      "Epoch [26/50], Loss: 0.0034, Accuracy: 100.00%\n",
      "Epoch [27/50], Loss: 0.0030, Accuracy: 100.00%\n",
      "Epoch [28/50], Loss: 0.0049, Accuracy: 99.90%\n",
      "Epoch [29/50], Loss: 0.0050, Accuracy: 99.90%\n",
      "Epoch [30/50], Loss: 0.0026, Accuracy: 99.90%\n",
      "Epoch [31/50], Loss: 0.0022, Accuracy: 100.00%\n",
      "Epoch [32/50], Loss: 0.0018, Accuracy: 100.00%\n",
      "Epoch [33/50], Loss: 0.0022, Accuracy: 100.00%\n",
      "Epoch [34/50], Loss: 0.0116, Accuracy: 99.69%\n",
      "Epoch [35/50], Loss: 0.0144, Accuracy: 99.27%\n",
      "Epoch [36/50], Loss: 0.0114, Accuracy: 99.58%\n",
      "Epoch [37/50], Loss: 0.0028, Accuracy: 99.90%\n",
      "Epoch [38/50], Loss: 0.0012, Accuracy: 100.00%\n",
      "Epoch [39/50], Loss: 0.0021, Accuracy: 99.90%\n",
      "Epoch [40/50], Loss: 0.0010, Accuracy: 100.00%\n",
      "Epoch [41/50], Loss: 0.0009, Accuracy: 100.00%\n",
      "Epoch [42/50], Loss: 0.0009, Accuracy: 100.00%\n",
      "Epoch [43/50], Loss: 0.0009, Accuracy: 100.00%\n",
      "Epoch [44/50], Loss: 0.0008, Accuracy: 100.00%\n",
      "Epoch [45/50], Loss: 0.0009, Accuracy: 100.00%\n",
      "Epoch [46/50], Loss: 0.0008, Accuracy: 100.00%\n",
      "Epoch [47/50], Loss: 0.0008, Accuracy: 100.00%\n",
      "Epoch [48/50], Loss: 0.0008, Accuracy: 100.00%\n",
      "Epoch [49/50], Loss: 0.0007, Accuracy: 100.00%\n",
      "Epoch [50/50], Loss: 0.0007, Accuracy: 100.00%\n",
      "Test Accuracy: 95.85%\n"
     ]
    }
   ],
   "source": [
    "import torch\n",
    "import torch.nn as nn\n",
    "import torch.optim as optim\n",
    "from torch.utils.data import DataLoader, TensorDataset\n",
    "\n",
    "from simpenn import SimpleNN  # Assuming you have a SimpleNN class for the model\n",
    "\n",
    "# Converts X_train, y_train, X_test, and y_test (assumed to be NumPy arrays or Pandas DataFrames) into PyTorch tensors.\n",
    "X_train_tensor = torch.tensor(X_train, dtype=torch.float32)\n",
    "y_train_tensor = torch.tensor(y_train, dtype=torch.long)\n",
    "X_test_tensor = torch.tensor(X_test, dtype=torch.float32)\n",
    "y_test_tensor = torch.tensor(y_test, dtype=torch.long)\n",
    "\n",
    "\n",
    "# Combines input (X_train_tensor) and labels (y_train_tensor) into a dataset.\n",
    "# Create DataLoader for batching\n",
    "# groups 64 samples at a time).\n",
    "train_data = TensorDataset(X_train_tensor, y_train_tensor)\n",
    "train_loader = DataLoader(train_data, batch_size=64, shuffle=True)\n",
    "num_classes = max(y_train.max(), y_test.max()) + 1 \n",
    "# Initialize the model, loss function, and optimizer\n",
    "model = SimpleNN(input_size=X_train.shape[1], hidden_size=128, num_classes=num_classes)\n",
    "# nn.CrossEntropyLoss() → Suitable for multi-class classific\n",
    "criterion = nn.CrossEntropyLoss()\n",
    "# Adaptive learning rate for better convergence.\n",
    "optimizer = optim.Adam(model.parameters(), lr=0.001)\n",
    "\n",
    "# Lists to store loss and accuracy values\n",
    "train_losses = []\n",
    "train_accuracies = []\n",
    "\n",
    "# Training loop\n",
    "num_epochs = 50\n",
    "for epoch in range(num_epochs):\n",
    "    model.train()  # Set the model to training mode\n",
    "    epoch_loss = 0.0\n",
    "    correct = 0\n",
    "    total = 0\n",
    "\n",
    "    for inputs, labels in train_loader:\n",
    "    \n",
    "        optimizer.zero_grad()  # Zero the gradients: Clears previous gradients to prevent accumulation.\n",
    "        outputs = model(inputs)  # Forward pass: Computes predictions using model(inputs).\n",
    "        loss = criterion(outputs, labels)  # Calculate loss: Compares predictions with actual labels.\n",
    "        loss.backward()  # Backward pass: Calculates gradients using loss.backward().\n",
    "        optimizer.step()  # Update weights : Updates model weights based on gradients.\n",
    "\n",
    "        epoch_loss += loss.item() * inputs.size(0)  # Accumulate loss: ## Sum loss for all samples\n",
    "        _, predicted = torch.max(outputs, 1)\n",
    "        correct += (predicted == labels).sum().item()  # Track correct predictions :# Count correct predictions\n",
    "        total += labels.size(0)\n",
    "\n",
    "    # Calculate average loss and accuracy for the epoch\n",
    "    avg_loss = epoch_loss / total  \n",
    "    accuracy = correct / total\n",
    "    train_losses.append(avg_loss)\n",
    "    train_accuracies.append(accuracy)\n",
    "\n",
    "    # Optionally, print the loss and accuracy for each epoch\n",
    "    print(f'Epoch [{epoch+1}/{num_epochs}], Loss: {avg_loss:.4f}, Accuracy: {accuracy*100:.2f}%')\n",
    "\n",
    "# Evaluate the model\n",
    "model.eval()  # Set the model to evaluation mode\n",
    "with torch.no_grad():\n",
    "    outputs = model(X_test_tensor)\n",
    "    _, predicted = torch.max(outputs, 1)\n",
    "    correct = (predicted == y_test_tensor).sum().item()\n",
    "    accuracy = correct / y_test_tensor.size(0)\n",
    "\n",
    "    print(f\"Test Accuracy: {accuracy * 100:.2f}%\")"
   ]
  },
  {
   "cell_type": "code",
   "execution_count": 65,
   "id": "662654a5",
   "metadata": {},
   "outputs": [
    {
     "name": "stdout",
     "output_type": "stream",
     "text": [
      "Accuracy: 0.96\n",
      "Precision: 0.96\n",
      "Recall: 0.96\n",
      "F1-Score: 0.96\n"
     ]
    }
   ],
   "source": [
    "from sklearn.metrics import accuracy_score, precision_score, recall_score, f1_score\n",
    "import torch\n",
    "\n",
    "# Assuming y_test_tensor and predicted are available from the evaluation step in the code\n",
    "y_true = y_test_tensor.numpy()  # Convert PyTorch tensor to NumPy array\n",
    "y_pred = predicted.numpy()  # Convert PyTorch tensor to NumPy array\n",
    "\n",
    "# Calculate evaluation metrics\n",
    "accuracy = accuracy_score(y_true, y_pred)\n",
    "precision = precision_score(y_true, y_pred, average='weighted')\n",
    "recall = recall_score(y_true, y_pred, average='weighted')\n",
    "f1 = f1_score(y_true, y_pred, average='weighted')\n",
    "\n",
    "# Print the results\n",
    "print(f\"Accuracy: {accuracy:.2f}\")\n",
    "print(f\"Precision: {precision:.2f}\")\n",
    "print(f\"Recall: {recall:.2f}\")\n",
    "print(f\"F1-Score: {f1:.2f}\")\n"
   ]
  },
  {
   "cell_type": "code",
   "execution_count": 66,
   "id": "6aa39a44",
   "metadata": {},
   "outputs": [
    {
     "data": {
      "image/png": "[encoded data removed]",
      "text/plain": [
       "<Figure size 800x500 with 1 Axes>"
      ]
     },
     "metadata": {},
     "output_type": "display_data"
    }
   ],
   "source": [
    "import matplotlib.pyplot as plt\n",
    "\n",
    "# Define the evaluation metrics\n",
    "metrics = [\"Accuracy\", \"Precision\", \"Recall\", \"F1-Score\"]\n",
    "values = [0.96, 0.96, 0.96, 0.96]  # Given metrics\n",
    "\n",
    "# Create a bar chart\n",
    "plt.figure(figsize=(8, 5))\n",
    "plt.bar(metrics, values, color=['blue', 'green', 'red', 'purple'])\n",
    "plt.ylim(0, 1.05)  # Set y-axis range from 0 to 1\n",
    "plt.xlabel(\"Evaluation Metrics\")\n",
    "plt.ylabel(\"Score\")\n",
    "plt.title(\"Evaluation Metrics Comparison\")\n",
    "plt.xticks(rotation=30)\n",
    "plt.grid(axis='y', linestyle='--', alpha=0.7)\n",
    "\n",
    "# Show the plot\n",
    "plt.show()\n"
   ]
  },
  {
   "cell_type": "code",
   "execution_count": 58,
   "id": "826a92bd",
   "metadata": {},
   "outputs": [],
   "source": [
    "# Get the model's predictions\n",
    "model.eval()  # Set the model to evaluation mode\n",
    "with torch.no_grad():\n",
    "    outputs = model(X_test_tensor)  # Forward pass\n",
    "    _, predicted = torch.max(outputs, 1)  # Get the predicted class labels\n"
   ]
  },
  {
   "cell_type": "code",
   "execution_count": 59,
   "id": "5f10a1fb",
   "metadata": {},
   "outputs": [
    {
     "name": "stdout",
     "output_type": "stream",
     "text": [
      "[{'table': 'title', 'join_type': 'mi_idx.movie_id = t.id', 'node_type': 'Hash Join'}, {'table': 'movie_info', 'join_type': 'mi.movie_id = t.id', 'node_type': 'Hash'}, {'table': 'cast_info', 'join_type': 'ci.movie_id = mk.movie_id', 'node_type': 'Nested Loop'}, {'table': 'title', 'join_type': 'mi_idx.movie_id = t.id', 'node_type': 'Hash Join'}, {'table': 'NA', 'join_type': None, 'node_type': 'Gather'}, {'table': 'title', 'join_type': 'mi_idx.movie_id = t.id', 'node_type': 'Hash Join'}, {'table': 'movie_info_idx', 'join_type': 'mc.movie_id = t.id', 'node_type': 'Seq Scan'}, {'table': 'title', 'join_type': 'mi_idx.movie_id = t.id', 'node_type': 'Hash Join'}, {'table': 'cast_info', 'join_type': 'ci.movie_id = mk.movie_id', 'node_type': 'Nested Loop'}, {'table': 'NA', 'join_type': None, 'node_type': 'Gather'}]\n"
     ]
    }
   ],
   "source": [
    "# Assuming encoding.idx2table, encoding.idx2join, encoding.idx2type hold the mapping\n",
    "# You can use these mappings to get the knob settings\n",
    "\n",
    "predicted_knobs = []\n",
    "\n",
    "for idx in predicted:\n",
    "    # Map the index to the corresponding values (assuming you have idx2table, idx2join, etc.)\n",
    "    table = encoding.idx2table[idx.item()]  # Get the table mapping\n",
    "    join_type = encoding.idx2join[idx.item()]  # Get the join type mapping\n",
    "    node_type = encoding.idx2type[idx.item()]  # Get the node type mapping\n",
    "    \n",
    "    # Combine these values into a dictionary (or a format that fits your use case)\n",
    "    knob_setting = {\n",
    "        'table': table,\n",
    "        'join_type': join_type,\n",
    "        'node_type': node_type\n",
    "    }\n",
    "    predicted_knobs.append(knob_setting)\n",
    "\n",
    "# Now predicted_knobs contains the decoded knob settings for each prediction\n",
    "print(predicted_knobs[:10])  # Display the first 10 predictions to check\n"
   ]
  },
  {
   "cell_type": "code",
   "execution_count": 60,
   "id": "e8f352ef",
   "metadata": {},
   "outputs": [
    {
     "name": "stdout",
     "output_type": "stream",
     "text": [
      "['Hash Join']\n"
     ]
    }
   ],
   "source": [
    "predicted_knobs = []\n",
    "\n",
    "# Assuming y_pred contains the predicted indices for knob settings (like 'Hash Join', 'Seq Scan', etc.)\n",
    "for idx in y_pred:\n",
    "    # Convert the predicted index back to its corresponding knob setting (node type) using the encoding mappings\n",
    "    node_type = encoding.idx2type[idx]\n",
    "    predicted_knobs.append(node_type)\n",
    "\n",
    "# Now predicted_knobs contains only the decoded knob settings for each prediction\n",
    "print(predicted_knobs[:1])  # Display the first 10 predictions to check\n"
   ]
  },
  {
   "cell_type": "code",
   "execution_count": 62,
   "id": "7071baad",
   "metadata": {},
   "outputs": [
    {
     "name": "stdout",
     "output_type": "stream",
     "text": [
      "Sample 1:\n",
      "Actual knob setting: Hash Join\n",
      "Predicted knob setting: Hash Join\n",
      "--------------------------------------------------\n",
      "Sample 2:\n",
      "Actual knob setting: Hash\n",
      "Predicted knob setting: Bitmap Heap Scan\n",
      "--------------------------------------------------\n",
      "Sample 3:\n",
      "Actual knob setting: Nested Loop\n",
      "Predicted knob setting: Merge Join\n",
      "--------------------------------------------------\n",
      "Sample 4:\n",
      "Actual knob setting: Hash Join\n",
      "Predicted knob setting: Hash Join\n",
      "--------------------------------------------------\n",
      "Sample 5:\n",
      "Actual knob setting: Gather\n",
      "Predicted knob setting: Gather\n",
      "--------------------------------------------------\n",
      "Sample 6:\n",
      "Actual knob setting: Hash Join\n",
      "Predicted knob setting: Hash Join\n",
      "--------------------------------------------------\n",
      "Sample 7:\n",
      "Actual knob setting: Seq Scan\n",
      "Predicted knob setting: Seq Scan\n",
      "--------------------------------------------------\n",
      "Sample 8:\n",
      "Actual knob setting: Hash Join\n",
      "Predicted knob setting: Hash Join\n",
      "--------------------------------------------------\n",
      "Sample 9:\n",
      "Actual knob setting: Nested Loop\n",
      "Predicted knob setting: Merge Join\n",
      "--------------------------------------------------\n",
      "Sample 10:\n",
      "Actual knob setting: Gather\n",
      "Predicted knob setting: Gather\n",
      "--------------------------------------------------\n",
      "Sample 11:\n",
      "Actual knob setting: Seq Scan\n",
      "Predicted knob setting: Seq Scan\n",
      "--------------------------------------------------\n",
      "Sample 12:\n",
      "Actual knob setting: Gather\n",
      "Predicted knob setting: Gather\n",
      "--------------------------------------------------\n",
      "Sample 13:\n",
      "Actual knob setting: Gather\n",
      "Predicted knob setting: Gather\n",
      "--------------------------------------------------\n",
      "Sample 14:\n",
      "Actual knob setting: Hash Join\n",
      "Predicted knob setting: Hash Join\n",
      "--------------------------------------------------\n",
      "Sample 15:\n",
      "Actual knob setting: Hash\n",
      "Predicted knob setting: Bitmap Heap Scan\n",
      "--------------------------------------------------\n",
      "Sample 16:\n",
      "Actual knob setting: Hash Join\n",
      "Predicted knob setting: Hash Join\n",
      "--------------------------------------------------\n",
      "Sample 17:\n",
      "Actual knob setting: Gather\n",
      "Predicted knob setting: Gather\n",
      "--------------------------------------------------\n",
      "Sample 18:\n",
      "Actual knob setting: Bitmap Index Scan\n",
      "Predicted knob setting: Index Scan\n",
      "--------------------------------------------------\n",
      "Sample 19:\n",
      "Actual knob setting: Bitmap Index Scan\n",
      "Predicted knob setting: Index Scan\n",
      "--------------------------------------------------\n",
      "Sample 20:\n",
      "Actual knob setting: Hash\n",
      "Predicted knob setting: Bitmap Heap Scan\n",
      "--------------------------------------------------\n"
     ]
    }
   ],
   "source": [
    "# Assuming y_test contains the actual knob settings, and y_pred contains the predicted knob settings\n",
    "\n",
    "# Get the actual knob settings (replace with your actual labels)\n",
    "actual_knobs = [encoding.idx2type[actual] for actual in y_test[:20]]  # for first 10 samples\n",
    "\n",
    "# Get the predicted knob settings (replace y_pred with your actual predicted values)\n",
    "predicted_knobs = [encoding.idx2type[pred] for pred in y_pred[:20]]  # for first 10 samples\n",
    "\n",
    "# Print actual vs predicted knob settings\n",
    "for i in range(20):\n",
    "    print(f\"Sample {i+1}:\")\n",
    "    print(f\"Actual knob setting: {actual_knobs[i]}\")\n",
    "    print(f\"Predicted knob setting: {predicted_knobs[i]}\")\n",
    "    print(\"-\" * 50)\n"
   ]
  },
  {
   "cell_type": "code",
   "execution_count": null,
   "id": "b0ff6ef5",
   "metadata": {},
   "outputs": [
    {
     "data": {
      "image/png": "[encoded data removed]",
      "text/plain": [
       "<Figure size 1000x700 with 2 Axes>"
      ]
     },
     "metadata": {},
     "output_type": "display_data"
    }
   ],
   "source": [
    "import seaborn as sns\n",
    "from sklearn.metrics import confusion_matrix\n",
    "import matplotlib.pyplot as plt\n",
    "\n",
    "# Get confusion matrix\n",
    "cm = confusion_matrix(y_test_tensor.numpy(), predicted.numpy(), labels=range(len(set(y_train))))\n",
    "\n",
    "# Visualize the confusion matrix\n",
    "plt.figure(figsize=(10, 7))\n",
    "sns.heatmap(cm, annot=True, fmt=\"d\", cmap=\"Blues\", xticklabels=range(len(set(y_train))), yticklabels=range(len(set(y_train))))\n",
    "plt.xlabel('Predicted')\n",
    "plt.ylabel('Actual')\n",
    "plt.title('Confusion Matrix')\n",
    "plt.show()\n"
   ]
  },
  {
   "cell_type": "code",
   "execution_count": 98,
   "id": "5bf645ac",
   "metadata": {},
   "outputs": [
    {
     "name": "stdout",
     "output_type": "stream",
     "text": [
      "              precision    recall  f1-score   support\n",
      "\n",
      "           0       0.93      0.97      0.95        99\n",
      "           1       0.98      0.95      0.96        42\n",
      "           2       1.00      0.96      0.98        25\n",
      "           3       0.89      1.00      0.94        25\n",
      "           4       1.00      0.72      0.84        18\n",
      "           5       0.95      1.00      0.98        20\n",
      "           6       1.00      0.92      0.96        12\n",
      "\n",
      "    accuracy                           0.95       241\n",
      "   macro avg       0.96      0.93      0.94       241\n",
      "weighted avg       0.95      0.95      0.95       241\n",
      "\n"
     ]
    }
   ],
   "source": [
    "from sklearn.metrics import classification_report\n",
    "\n",
    "# Get classification report\n",
    "report = classification_report(y_test_tensor.numpy(), predicted.numpy(), target_names=[str(i) for i in range(len(set(y_train)))])\n",
    "print(report)\n"
   ]
  },
  {
   "cell_type": "code",
   "execution_count": 100,
   "id": "ddbca260",
   "metadata": {},
   "outputs": [
    {
     "data": {
      "image/png": "[encoded data removed]",
      "text/plain": [
       "<Figure size 1000x500 with 1 Axes>"
      ]
     },
     "metadata": {},
     "output_type": "display_data"
    }
   ],
   "source": [
    "# After training, plot the loss curve\n",
    "# Plot Training Loss\n",
    "plt.figure(figsize=(10, 5))\n",
    "plt.plot(range(num_epochs), train_losses, label='Training Loss')\n",
    "plt.xlabel('Epochs')\n",
    "plt.ylabel('Loss')\n",
    "plt.title('Training Loss vs Epochs')\n",
    "plt.legend()\n",
    "plt.show()\n"
   ]
  },
  {
   "cell_type": "code",
   "execution_count": 101,
   "id": "1c27c65b",
   "metadata": {},
   "outputs": [
    {
     "data": {
      "image/png": "[encoded data removed]",
      "text/plain": [
       "<Figure size 1000x500 with 1 Axes>"
      ]
     },
     "metadata": {},
     "output_type": "display_data"
    }
   ],
   "source": [
    "# Plot Training Accuracy\n",
    "plt.figure(figsize=(10, 5))\n",
    "plt.plot(range(num_epochs), train_accuracies, label='Training Accuracy')\n",
    "plt.xlabel('Epochs')\n",
    "plt.ylabel('Accuracy')\n",
    "plt.title('Training Accuracy vs Epochs')\n",
    "plt.legend()\n",
    "plt.show()"
   ]
  }
 ],
 "metadata": {
  "kernelspec": {
   "display_name": ".venv",
   "language": "python",
   "name": "python3"
  },
  "language_info": {
   "codemirror_mode": {
    "name": "ipython",
    "version": 3
   },
   "file_extension": ".py",
   "mimetype": "text/x-python",
   "name": "python",
   "nbconvert_exporter": "python",
   "pygments_lexer": "ipython3",
   "version": "3.12.2"
  }
 },
 "nbformat": 4,
 "nbformat_minor": 5
}
